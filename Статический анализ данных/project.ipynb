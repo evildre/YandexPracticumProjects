{
 "cells": [
  {
   "cell_type": "code",
   "execution_count": 1,
   "id": "89db5988-8c5a-4e16-93bb-0d1c006f7360",
   "metadata": {},
   "outputs": [],
   "source": [
    "import pandas as pd\n",
    "import numpy as np\n",
    "from math import factorial, sqrt\n",
    "from scipy import stats as st\n",
    "from matplotlib import pyplot as plt"
   ]
  },
  {
   "cell_type": "markdown",
   "id": "9638f2c7-1c7d-403f-965f-52203a8093ba",
   "metadata": {
    "jp-MarkdownHeadingCollapsed": true
   },
   "source": [
    "### Краткая характеристика данных"
   ]
  },
  {
   "cell_type": "markdown",
   "id": "f0a6d493-658b-45ff-8805-e521dae67252",
   "metadata": {},
   "source": [
    "У нас имеются данные о сети самокатов GoFast (пользователи и их поездки) в нескольких городах.\n",
    "\n",
    "Сервисом можно пользоваться:\n",
    "\n",
    "1. Без подписки - абонентская плата отсутствует, стоимость одной минуты - 8 рублей, стоимость старта - 50 рублей.\n",
    "2. С подпиский Ultra - абонентская  плата - 199 рублей в месяц, стоимость одной минуты - 6 рублей, стоимость старта - бесплатно.\n",
    "\n",
    "Нам представлены 3 датафрейма:\n",
    "\n",
    "1. Пользователи - user_go.csv:\n",
    "\n",
    "    user_id - уникальный идентификатор пользователя\n",
    "    \n",
    "    name - имя пользователя\n",
    "    \n",
    "    age - возраст\n",
    "    \n",
    "    city - город\n",
    "    \n",
    "    subscription_type - тип подписки (free, ultra)\n",
    "\n",
    "2. Поездки - rides_go.csv\n",
    "\n",
    "   user_id - уникальный идентификатор пользователя\n",
    "\n",
    "   distance - \tрасстояние, которое пользователь проехал в текущей сессии (в метрах)\n",
    "\n",
    "   duration - продолжительность сессии (в минутах) — время с того момента, как пользователь нажал кнопку «Начать поездку» до момента, как он нажал\n",
    "   кнопку «Завершить поездку»\n",
    "\n",
    "   date - дата совершения поездки\n",
    "\n",
    "3. Подписки - subscriptions_go.csv\n",
    "\n",
    "   subscription_type - тип подписки\n",
    "\n",
    "   minute_price - стоимость одной минуты поездки по данной подписке\n",
    "\n",
    "   start_ride_price - стоимость начала поездки\n",
    "\n",
    "   subscription_fee - стоимость ежемесячного платежа"
   ]
  },
  {
   "cell_type": "markdown",
   "id": "e1f31583-575c-4356-bacd-a42fd4593231",
   "metadata": {
    "jp-MarkdownHeadingCollapsed": true
   },
   "source": [
    "### Шаг 1. Загрузка данных"
   ]
  },
  {
   "cell_type": "code",
   "execution_count": 2,
   "id": "1800f34b-2da0-4d92-b8a3-9b5fb1b27a20",
   "metadata": {},
   "outputs": [],
   "source": [
    "try: \n",
    "    users_go_df = pd.read_csv('users_go.csv')\n",
    "except:\n",
    "    users_go_df = pd.read_csv('/datasets/users_go.csv')"
   ]
  },
  {
   "cell_type": "code",
   "execution_count": 3,
   "id": "ccc998f3-42c0-4117-a7b9-d0c1d6536aae",
   "metadata": {},
   "outputs": [
    {
     "data": {
      "text/html": [
       "<div>\n",
       "<style scoped>\n",
       "    .dataframe tbody tr th:only-of-type {\n",
       "        vertical-align: middle;\n",
       "    }\n",
       "\n",
       "    .dataframe tbody tr th {\n",
       "        vertical-align: top;\n",
       "    }\n",
       "\n",
       "    .dataframe thead th {\n",
       "        text-align: right;\n",
       "    }\n",
       "</style>\n",
       "<table border=\"1\" class=\"dataframe\">\n",
       "  <thead>\n",
       "    <tr style=\"text-align: right;\">\n",
       "      <th></th>\n",
       "      <th>user_id</th>\n",
       "      <th>name</th>\n",
       "      <th>age</th>\n",
       "      <th>city</th>\n",
       "      <th>subscription_type</th>\n",
       "    </tr>\n",
       "  </thead>\n",
       "  <tbody>\n",
       "    <tr>\n",
       "      <th>0</th>\n",
       "      <td>1</td>\n",
       "      <td>Кира</td>\n",
       "      <td>22</td>\n",
       "      <td>Тюмень</td>\n",
       "      <td>ultra</td>\n",
       "    </tr>\n",
       "    <tr>\n",
       "      <th>1</th>\n",
       "      <td>2</td>\n",
       "      <td>Станислав</td>\n",
       "      <td>31</td>\n",
       "      <td>Омск</td>\n",
       "      <td>ultra</td>\n",
       "    </tr>\n",
       "    <tr>\n",
       "      <th>2</th>\n",
       "      <td>3</td>\n",
       "      <td>Алексей</td>\n",
       "      <td>20</td>\n",
       "      <td>Москва</td>\n",
       "      <td>ultra</td>\n",
       "    </tr>\n",
       "    <tr>\n",
       "      <th>3</th>\n",
       "      <td>4</td>\n",
       "      <td>Константин</td>\n",
       "      <td>26</td>\n",
       "      <td>Ростов-на-Дону</td>\n",
       "      <td>ultra</td>\n",
       "    </tr>\n",
       "    <tr>\n",
       "      <th>4</th>\n",
       "      <td>5</td>\n",
       "      <td>Адель</td>\n",
       "      <td>28</td>\n",
       "      <td>Омск</td>\n",
       "      <td>ultra</td>\n",
       "    </tr>\n",
       "    <tr>\n",
       "      <th>5</th>\n",
       "      <td>6</td>\n",
       "      <td>Регина</td>\n",
       "      <td>25</td>\n",
       "      <td>Краснодар</td>\n",
       "      <td>ultra</td>\n",
       "    </tr>\n",
       "    <tr>\n",
       "      <th>6</th>\n",
       "      <td>7</td>\n",
       "      <td>Игорь</td>\n",
       "      <td>23</td>\n",
       "      <td>Омск</td>\n",
       "      <td>ultra</td>\n",
       "    </tr>\n",
       "    <tr>\n",
       "      <th>7</th>\n",
       "      <td>8</td>\n",
       "      <td>Юрий</td>\n",
       "      <td>23</td>\n",
       "      <td>Краснодар</td>\n",
       "      <td>ultra</td>\n",
       "    </tr>\n",
       "    <tr>\n",
       "      <th>8</th>\n",
       "      <td>9</td>\n",
       "      <td>Ян</td>\n",
       "      <td>21</td>\n",
       "      <td>Пятигорск</td>\n",
       "      <td>ultra</td>\n",
       "    </tr>\n",
       "    <tr>\n",
       "      <th>9</th>\n",
       "      <td>10</td>\n",
       "      <td>Валерий</td>\n",
       "      <td>18</td>\n",
       "      <td>Екатеринбург</td>\n",
       "      <td>ultra</td>\n",
       "    </tr>\n",
       "  </tbody>\n",
       "</table>\n",
       "</div>"
      ],
      "text/plain": [
       "   user_id        name  age            city subscription_type\n",
       "0        1        Кира   22          Тюмень             ultra\n",
       "1        2   Станислав   31            Омск             ultra\n",
       "2        3     Алексей   20          Москва             ultra\n",
       "3        4  Константин   26  Ростов-на-Дону             ultra\n",
       "4        5       Адель   28            Омск             ultra\n",
       "5        6      Регина   25       Краснодар             ultra\n",
       "6        7       Игорь   23            Омск             ultra\n",
       "7        8        Юрий   23       Краснодар             ultra\n",
       "8        9          Ян   21       Пятигорск             ultra\n",
       "9       10     Валерий   18    Екатеринбург             ultra"
      ]
     },
     "execution_count": 3,
     "metadata": {},
     "output_type": "execute_result"
    }
   ],
   "source": [
    "users_go_df.head(10)"
   ]
  },
  {
   "cell_type": "code",
   "execution_count": 4,
   "id": "0209275d-dd02-42e9-835c-5e767e5411a6",
   "metadata": {},
   "outputs": [
    {
     "name": "stdout",
     "output_type": "stream",
     "text": [
      "<class 'pandas.core.frame.DataFrame'>\n",
      "RangeIndex: 1565 entries, 0 to 1564\n",
      "Data columns (total 5 columns):\n",
      " #   Column             Non-Null Count  Dtype \n",
      "---  ------             --------------  ----- \n",
      " 0   user_id            1565 non-null   int64 \n",
      " 1   name               1565 non-null   object\n",
      " 2   age                1565 non-null   int64 \n",
      " 3   city               1565 non-null   object\n",
      " 4   subscription_type  1565 non-null   object\n",
      "dtypes: int64(2), object(3)\n",
      "memory usage: 61.3+ KB\n"
     ]
    }
   ],
   "source": [
    "users_go_df.info()"
   ]
  },
  {
   "cell_type": "code",
   "execution_count": 5,
   "id": "0d0ed102-3375-473c-8221-8d5a15ab482e",
   "metadata": {},
   "outputs": [],
   "source": [
    "try: \n",
    "    rides_go_df = pd.read_csv('rides_go.csv')\n",
    "except:\n",
    "    rides_go_df = pd.read_csv('/datasets/rides_go.csv')"
   ]
  },
  {
   "cell_type": "code",
   "execution_count": 6,
   "id": "d45f92fa-fedf-406e-b91f-32509183bd58",
   "metadata": {},
   "outputs": [
    {
     "data": {
      "text/html": [
       "<div>\n",
       "<style scoped>\n",
       "    .dataframe tbody tr th:only-of-type {\n",
       "        vertical-align: middle;\n",
       "    }\n",
       "\n",
       "    .dataframe tbody tr th {\n",
       "        vertical-align: top;\n",
       "    }\n",
       "\n",
       "    .dataframe thead th {\n",
       "        text-align: right;\n",
       "    }\n",
       "</style>\n",
       "<table border=\"1\" class=\"dataframe\">\n",
       "  <thead>\n",
       "    <tr style=\"text-align: right;\">\n",
       "      <th></th>\n",
       "      <th>user_id</th>\n",
       "      <th>distance</th>\n",
       "      <th>duration</th>\n",
       "      <th>date</th>\n",
       "    </tr>\n",
       "  </thead>\n",
       "  <tbody>\n",
       "    <tr>\n",
       "      <th>0</th>\n",
       "      <td>1</td>\n",
       "      <td>4409.919140</td>\n",
       "      <td>25.599769</td>\n",
       "      <td>2021-01-01</td>\n",
       "    </tr>\n",
       "    <tr>\n",
       "      <th>1</th>\n",
       "      <td>1</td>\n",
       "      <td>2617.592153</td>\n",
       "      <td>15.816871</td>\n",
       "      <td>2021-01-18</td>\n",
       "    </tr>\n",
       "    <tr>\n",
       "      <th>2</th>\n",
       "      <td>1</td>\n",
       "      <td>754.159807</td>\n",
       "      <td>6.232113</td>\n",
       "      <td>2021-04-20</td>\n",
       "    </tr>\n",
       "    <tr>\n",
       "      <th>3</th>\n",
       "      <td>1</td>\n",
       "      <td>2694.783254</td>\n",
       "      <td>18.511000</td>\n",
       "      <td>2021-08-11</td>\n",
       "    </tr>\n",
       "    <tr>\n",
       "      <th>4</th>\n",
       "      <td>1</td>\n",
       "      <td>4028.687306</td>\n",
       "      <td>26.265803</td>\n",
       "      <td>2021-08-28</td>\n",
       "    </tr>\n",
       "    <tr>\n",
       "      <th>5</th>\n",
       "      <td>1</td>\n",
       "      <td>2770.890808</td>\n",
       "      <td>16.650138</td>\n",
       "      <td>2021-10-09</td>\n",
       "    </tr>\n",
       "    <tr>\n",
       "      <th>6</th>\n",
       "      <td>1</td>\n",
       "      <td>3039.020292</td>\n",
       "      <td>14.927879</td>\n",
       "      <td>2021-10-19</td>\n",
       "    </tr>\n",
       "    <tr>\n",
       "      <th>7</th>\n",
       "      <td>1</td>\n",
       "      <td>2842.118050</td>\n",
       "      <td>23.117468</td>\n",
       "      <td>2021-11-06</td>\n",
       "    </tr>\n",
       "    <tr>\n",
       "      <th>8</th>\n",
       "      <td>1</td>\n",
       "      <td>3412.690668</td>\n",
       "      <td>15.238072</td>\n",
       "      <td>2021-11-14</td>\n",
       "    </tr>\n",
       "    <tr>\n",
       "      <th>9</th>\n",
       "      <td>1</td>\n",
       "      <td>748.690645</td>\n",
       "      <td>15.041884</td>\n",
       "      <td>2021-11-22</td>\n",
       "    </tr>\n",
       "  </tbody>\n",
       "</table>\n",
       "</div>"
      ],
      "text/plain": [
       "   user_id     distance   duration        date\n",
       "0        1  4409.919140  25.599769  2021-01-01\n",
       "1        1  2617.592153  15.816871  2021-01-18\n",
       "2        1   754.159807   6.232113  2021-04-20\n",
       "3        1  2694.783254  18.511000  2021-08-11\n",
       "4        1  4028.687306  26.265803  2021-08-28\n",
       "5        1  2770.890808  16.650138  2021-10-09\n",
       "6        1  3039.020292  14.927879  2021-10-19\n",
       "7        1  2842.118050  23.117468  2021-11-06\n",
       "8        1  3412.690668  15.238072  2021-11-14\n",
       "9        1   748.690645  15.041884  2021-11-22"
      ]
     },
     "execution_count": 6,
     "metadata": {},
     "output_type": "execute_result"
    }
   ],
   "source": [
    "rides_go_df.head(10)"
   ]
  },
  {
   "cell_type": "code",
   "execution_count": 7,
   "id": "d7a177f1-05f0-4d67-92f1-add36bb4e1da",
   "metadata": {},
   "outputs": [
    {
     "name": "stdout",
     "output_type": "stream",
     "text": [
      "<class 'pandas.core.frame.DataFrame'>\n",
      "RangeIndex: 18068 entries, 0 to 18067\n",
      "Data columns (total 4 columns):\n",
      " #   Column    Non-Null Count  Dtype  \n",
      "---  ------    --------------  -----  \n",
      " 0   user_id   18068 non-null  int64  \n",
      " 1   distance  18068 non-null  float64\n",
      " 2   duration  18068 non-null  float64\n",
      " 3   date      18068 non-null  object \n",
      "dtypes: float64(2), int64(1), object(1)\n",
      "memory usage: 564.8+ KB\n"
     ]
    }
   ],
   "source": [
    "rides_go_df.info()"
   ]
  },
  {
   "cell_type": "code",
   "execution_count": 8,
   "id": "9497fff1-eefd-474d-993d-db268065402d",
   "metadata": {},
   "outputs": [],
   "source": [
    "try: \n",
    "    subscriptions_go_df = pd.read_csv('subscriptions_go.csv')\n",
    "except:\n",
    "    subscriptions_go_df = pd.read_csv('/datasets/subscriptions_go.csv')"
   ]
  },
  {
   "cell_type": "code",
   "execution_count": 9,
   "id": "1b663177-9c7c-4b82-b5c0-ed87e4b64566",
   "metadata": {},
   "outputs": [
    {
     "data": {
      "text/html": [
       "<div>\n",
       "<style scoped>\n",
       "    .dataframe tbody tr th:only-of-type {\n",
       "        vertical-align: middle;\n",
       "    }\n",
       "\n",
       "    .dataframe tbody tr th {\n",
       "        vertical-align: top;\n",
       "    }\n",
       "\n",
       "    .dataframe thead th {\n",
       "        text-align: right;\n",
       "    }\n",
       "</style>\n",
       "<table border=\"1\" class=\"dataframe\">\n",
       "  <thead>\n",
       "    <tr style=\"text-align: right;\">\n",
       "      <th></th>\n",
       "      <th>subscription_type</th>\n",
       "      <th>minute_price</th>\n",
       "      <th>start_ride_price</th>\n",
       "      <th>subscription_fee</th>\n",
       "    </tr>\n",
       "  </thead>\n",
       "  <tbody>\n",
       "    <tr>\n",
       "      <th>0</th>\n",
       "      <td>free</td>\n",
       "      <td>8</td>\n",
       "      <td>50</td>\n",
       "      <td>0</td>\n",
       "    </tr>\n",
       "    <tr>\n",
       "      <th>1</th>\n",
       "      <td>ultra</td>\n",
       "      <td>6</td>\n",
       "      <td>0</td>\n",
       "      <td>199</td>\n",
       "    </tr>\n",
       "  </tbody>\n",
       "</table>\n",
       "</div>"
      ],
      "text/plain": [
       "  subscription_type  minute_price  start_ride_price  subscription_fee\n",
       "0              free             8                50                 0\n",
       "1             ultra             6                 0               199"
      ]
     },
     "execution_count": 9,
     "metadata": {},
     "output_type": "execute_result"
    }
   ],
   "source": [
    "subscriptions_go_df.head()"
   ]
  },
  {
   "cell_type": "code",
   "execution_count": 10,
   "id": "10117200-b46c-41de-aaed-5406423e84e5",
   "metadata": {},
   "outputs": [
    {
     "name": "stdout",
     "output_type": "stream",
     "text": [
      "<class 'pandas.core.frame.DataFrame'>\n",
      "RangeIndex: 2 entries, 0 to 1\n",
      "Data columns (total 4 columns):\n",
      " #   Column             Non-Null Count  Dtype \n",
      "---  ------             --------------  ----- \n",
      " 0   subscription_type  2 non-null      object\n",
      " 1   minute_price       2 non-null      int64 \n",
      " 2   start_ride_price   2 non-null      int64 \n",
      " 3   subscription_fee   2 non-null      int64 \n",
      "dtypes: int64(3), object(1)\n",
      "memory usage: 192.0+ bytes\n"
     ]
    }
   ],
   "source": [
    "subscriptions_go_df.info()"
   ]
  },
  {
   "cell_type": "markdown",
   "id": "e6a8c276-97e6-4b7f-8830-d3c6732fdab8",
   "metadata": {
    "jp-MarkdownHeadingCollapsed": true
   },
   "source": [
    "### Шаг 2. Предобработка данных"
   ]
  },
  {
   "cell_type": "markdown",
   "id": "05085d77-852d-400e-8a35-15618b203dc7",
   "metadata": {
    "jp-MarkdownHeadingCollapsed": true
   },
   "source": [
    "#### Приведем типы данных"
   ]
  },
  {
   "cell_type": "code",
   "execution_count": 11,
   "id": "7e48f359-f6fc-4420-a93d-9b33f8ca02ef",
   "metadata": {},
   "outputs": [
    {
     "data": {
      "text/html": [
       "<div>\n",
       "<style scoped>\n",
       "    .dataframe tbody tr th:only-of-type {\n",
       "        vertical-align: middle;\n",
       "    }\n",
       "\n",
       "    .dataframe tbody tr th {\n",
       "        vertical-align: top;\n",
       "    }\n",
       "\n",
       "    .dataframe thead th {\n",
       "        text-align: right;\n",
       "    }\n",
       "</style>\n",
       "<table border=\"1\" class=\"dataframe\">\n",
       "  <thead>\n",
       "    <tr style=\"text-align: right;\">\n",
       "      <th></th>\n",
       "      <th>user_id</th>\n",
       "      <th>distance</th>\n",
       "      <th>duration</th>\n",
       "      <th>date</th>\n",
       "    </tr>\n",
       "  </thead>\n",
       "  <tbody>\n",
       "    <tr>\n",
       "      <th>0</th>\n",
       "      <td>1</td>\n",
       "      <td>4409.919140</td>\n",
       "      <td>25.599769</td>\n",
       "      <td>2021-01-01</td>\n",
       "    </tr>\n",
       "    <tr>\n",
       "      <th>1</th>\n",
       "      <td>1</td>\n",
       "      <td>2617.592153</td>\n",
       "      <td>15.816871</td>\n",
       "      <td>2021-01-18</td>\n",
       "    </tr>\n",
       "    <tr>\n",
       "      <th>2</th>\n",
       "      <td>1</td>\n",
       "      <td>754.159807</td>\n",
       "      <td>6.232113</td>\n",
       "      <td>2021-04-20</td>\n",
       "    </tr>\n",
       "    <tr>\n",
       "      <th>3</th>\n",
       "      <td>1</td>\n",
       "      <td>2694.783254</td>\n",
       "      <td>18.511000</td>\n",
       "      <td>2021-08-11</td>\n",
       "    </tr>\n",
       "    <tr>\n",
       "      <th>4</th>\n",
       "      <td>1</td>\n",
       "      <td>4028.687306</td>\n",
       "      <td>26.265803</td>\n",
       "      <td>2021-08-28</td>\n",
       "    </tr>\n",
       "  </tbody>\n",
       "</table>\n",
       "</div>"
      ],
      "text/plain": [
       "   user_id     distance   duration       date\n",
       "0        1  4409.919140  25.599769 2021-01-01\n",
       "1        1  2617.592153  15.816871 2021-01-18\n",
       "2        1   754.159807   6.232113 2021-04-20\n",
       "3        1  2694.783254  18.511000 2021-08-11\n",
       "4        1  4028.687306  26.265803 2021-08-28"
      ]
     },
     "execution_count": 11,
     "metadata": {},
     "output_type": "execute_result"
    }
   ],
   "source": [
    "rides_go_df['date'] = pd.to_datetime(rides_go_df['date'], format = '%Y-%m-%d')\n",
    "rides_go_df.head()"
   ]
  },
  {
   "cell_type": "markdown",
   "id": "b002a2bf-ff52-481f-8a53-45cabc85d54b",
   "metadata": {
    "jp-MarkdownHeadingCollapsed": true
   },
   "source": [
    "#### Создадим новый столбец с месяцем"
   ]
  },
  {
   "cell_type": "code",
   "execution_count": 12,
   "id": "a3f0afe5-1508-4da1-8df1-18bef87da6ad",
   "metadata": {
    "scrolled": true
   },
   "outputs": [
    {
     "data": {
      "text/html": [
       "<div>\n",
       "<style scoped>\n",
       "    .dataframe tbody tr th:only-of-type {\n",
       "        vertical-align: middle;\n",
       "    }\n",
       "\n",
       "    .dataframe tbody tr th {\n",
       "        vertical-align: top;\n",
       "    }\n",
       "\n",
       "    .dataframe thead th {\n",
       "        text-align: right;\n",
       "    }\n",
       "</style>\n",
       "<table border=\"1\" class=\"dataframe\">\n",
       "  <thead>\n",
       "    <tr style=\"text-align: right;\">\n",
       "      <th></th>\n",
       "      <th>user_id</th>\n",
       "      <th>distance</th>\n",
       "      <th>duration</th>\n",
       "      <th>date</th>\n",
       "      <th>month</th>\n",
       "    </tr>\n",
       "  </thead>\n",
       "  <tbody>\n",
       "    <tr>\n",
       "      <th>0</th>\n",
       "      <td>1</td>\n",
       "      <td>4409.919140</td>\n",
       "      <td>25.599769</td>\n",
       "      <td>2021-01-01</td>\n",
       "      <td>1</td>\n",
       "    </tr>\n",
       "    <tr>\n",
       "      <th>1</th>\n",
       "      <td>1</td>\n",
       "      <td>2617.592153</td>\n",
       "      <td>15.816871</td>\n",
       "      <td>2021-01-18</td>\n",
       "      <td>1</td>\n",
       "    </tr>\n",
       "    <tr>\n",
       "      <th>2</th>\n",
       "      <td>1</td>\n",
       "      <td>754.159807</td>\n",
       "      <td>6.232113</td>\n",
       "      <td>2021-04-20</td>\n",
       "      <td>4</td>\n",
       "    </tr>\n",
       "    <tr>\n",
       "      <th>3</th>\n",
       "      <td>1</td>\n",
       "      <td>2694.783254</td>\n",
       "      <td>18.511000</td>\n",
       "      <td>2021-08-11</td>\n",
       "      <td>8</td>\n",
       "    </tr>\n",
       "    <tr>\n",
       "      <th>4</th>\n",
       "      <td>1</td>\n",
       "      <td>4028.687306</td>\n",
       "      <td>26.265803</td>\n",
       "      <td>2021-08-28</td>\n",
       "      <td>8</td>\n",
       "    </tr>\n",
       "  </tbody>\n",
       "</table>\n",
       "</div>"
      ],
      "text/plain": [
       "   user_id     distance   duration       date  month\n",
       "0        1  4409.919140  25.599769 2021-01-01      1\n",
       "1        1  2617.592153  15.816871 2021-01-18      1\n",
       "2        1   754.159807   6.232113 2021-04-20      4\n",
       "3        1  2694.783254  18.511000 2021-08-11      8\n",
       "4        1  4028.687306  26.265803 2021-08-28      8"
      ]
     },
     "execution_count": 12,
     "metadata": {},
     "output_type": "execute_result"
    }
   ],
   "source": [
    "rides_go_df['month'] = rides_go_df['date'].dt.month\n",
    "rides_go_df.head()"
   ]
  },
  {
   "cell_type": "markdown",
   "id": "d3127b24-fa00-40cc-8957-440b05e0dbe2",
   "metadata": {
    "jp-MarkdownHeadingCollapsed": true
   },
   "source": [
    "#### Проверим наличие пропусков"
   ]
  },
  {
   "cell_type": "code",
   "execution_count": 13,
   "id": "3a7ad9f5-0cbd-4c21-b194-3339c09489d8",
   "metadata": {},
   "outputs": [
    {
     "data": {
      "text/plain": [
       "user_id              0\n",
       "name                 0\n",
       "age                  0\n",
       "city                 0\n",
       "subscription_type    0\n",
       "dtype: int64"
      ]
     },
     "execution_count": 13,
     "metadata": {},
     "output_type": "execute_result"
    }
   ],
   "source": [
    "users_go_df.isna().sum()"
   ]
  },
  {
   "cell_type": "code",
   "execution_count": 14,
   "id": "8be8b6e6-ca4b-43b8-ac88-cd44d6ecb18a",
   "metadata": {},
   "outputs": [
    {
     "data": {
      "text/plain": [
       "user_id     0\n",
       "distance    0\n",
       "duration    0\n",
       "date        0\n",
       "month       0\n",
       "dtype: int64"
      ]
     },
     "execution_count": 14,
     "metadata": {},
     "output_type": "execute_result"
    }
   ],
   "source": [
    "rides_go_df.isna().sum()"
   ]
  },
  {
   "cell_type": "markdown",
   "id": "2c6dac41-ef77-4ad0-a04b-4c9f84a8255d",
   "metadata": {},
   "source": [
    "subscriptions_go_df.isna().sum()"
   ]
  },
  {
   "cell_type": "markdown",
   "id": "6bf4ebe4-64db-48ac-8056-7debb6ed6978",
   "metadata": {},
   "source": [
    "Пропущенных значений в датафреймах нет."
   ]
  },
  {
   "cell_type": "markdown",
   "id": "eb793f6f-fd36-455a-bd07-c0b9fd2e1b09",
   "metadata": {
    "jp-MarkdownHeadingCollapsed": true
   },
   "source": [
    "#### Удаление дубликатов"
   ]
  },
  {
   "cell_type": "markdown",
   "id": "da1f5a88-4074-4d52-a2ac-54d78e7ed4aa",
   "metadata": {
    "jp-MarkdownHeadingCollapsed": true
   },
   "source": [
    "##### Дубликаты в user_go"
   ]
  },
  {
   "cell_type": "code",
   "execution_count": 15,
   "id": "9c22b133-342d-47b4-94d8-656e481b5aa0",
   "metadata": {},
   "outputs": [
    {
     "data": {
      "text/plain": [
       "31"
      ]
     },
     "execution_count": 15,
     "metadata": {},
     "output_type": "execute_result"
    }
   ],
   "source": [
    "users_go_df.duplicated().sum()"
   ]
  },
  {
   "cell_type": "code",
   "execution_count": 16,
   "id": "7f038e15-aaf7-4b64-9c50-f398eb98da47",
   "metadata": {},
   "outputs": [],
   "source": [
    "users_go_df = users_go_df.drop_duplicates()"
   ]
  },
  {
   "cell_type": "code",
   "execution_count": 17,
   "id": "29a31f37-ac81-4fb5-8611-2081c672f15e",
   "metadata": {},
   "outputs": [
    {
     "data": {
      "text/plain": [
       "0"
      ]
     },
     "execution_count": 17,
     "metadata": {},
     "output_type": "execute_result"
    }
   ],
   "source": [
    "users_go_df.duplicated().sum()"
   ]
  },
  {
   "cell_type": "markdown",
   "id": "9ec0329b-b124-4f6e-97c3-7b3bb63495b0",
   "metadata": {},
   "source": [
    "Проверим неявные дубликаты"
   ]
  },
  {
   "cell_type": "code",
   "execution_count": 18,
   "id": "644870e1-3dc6-4dac-9c31-1013926b3fbe",
   "metadata": {},
   "outputs": [
    {
     "data": {
      "text/plain": [
       "0"
      ]
     },
     "execution_count": 18,
     "metadata": {},
     "output_type": "execute_result"
    }
   ],
   "source": [
    "temp_users_go_df = users_go_df.copy()\n",
    "temp_users_go_df['name'] = users_go_df['name'].str.lower()\n",
    "temp_users_go_df['city'] = users_go_df['city'].str.lower()\n",
    "temp_users_go_df.duplicated().sum()"
   ]
  },
  {
   "cell_type": "markdown",
   "id": "6cbd98f2-defd-47cd-98a2-bfb69b64fdd5",
   "metadata": {},
   "source": [
    "Неявных дубликатов нет."
   ]
  },
  {
   "cell_type": "markdown",
   "id": "49947d7a-43fc-43e2-917b-98af830736fa",
   "metadata": {
    "jp-MarkdownHeadingCollapsed": true
   },
   "source": [
    "##### Дубликаты в rides_go"
   ]
  },
  {
   "cell_type": "code",
   "execution_count": 19,
   "id": "af6e6052-4b40-4db0-a61f-147326a27925",
   "metadata": {},
   "outputs": [
    {
     "data": {
      "text/plain": [
       "0"
      ]
     },
     "execution_count": 19,
     "metadata": {},
     "output_type": "execute_result"
    }
   ],
   "source": [
    "rides_go_df.duplicated().sum()"
   ]
  },
  {
   "cell_type": "markdown",
   "id": "ce61ba92-64fd-400e-96d8-159e43ba06a7",
   "metadata": {},
   "source": [
    "Дубликаты отсутствуют и нет типов данных с возможными неявными дубликатами, поэтому оставим все, как есть."
   ]
  },
  {
   "cell_type": "markdown",
   "id": "c22e0f16-84ec-4c26-8a72-4e9fa24de900",
   "metadata": {
    "jp-MarkdownHeadingCollapsed": true
   },
   "source": [
    "##### Дубликаты в subscriptions_go"
   ]
  },
  {
   "cell_type": "code",
   "execution_count": 20,
   "id": "b4bdb82d-32a9-46b2-9eb5-0034a44bf051",
   "metadata": {},
   "outputs": [
    {
     "data": {
      "text/html": [
       "<div>\n",
       "<style scoped>\n",
       "    .dataframe tbody tr th:only-of-type {\n",
       "        vertical-align: middle;\n",
       "    }\n",
       "\n",
       "    .dataframe tbody tr th {\n",
       "        vertical-align: top;\n",
       "    }\n",
       "\n",
       "    .dataframe thead th {\n",
       "        text-align: right;\n",
       "    }\n",
       "</style>\n",
       "<table border=\"1\" class=\"dataframe\">\n",
       "  <thead>\n",
       "    <tr style=\"text-align: right;\">\n",
       "      <th></th>\n",
       "      <th>subscription_type</th>\n",
       "      <th>minute_price</th>\n",
       "      <th>start_ride_price</th>\n",
       "      <th>subscription_fee</th>\n",
       "    </tr>\n",
       "  </thead>\n",
       "  <tbody>\n",
       "    <tr>\n",
       "      <th>0</th>\n",
       "      <td>free</td>\n",
       "      <td>8</td>\n",
       "      <td>50</td>\n",
       "      <td>0</td>\n",
       "    </tr>\n",
       "    <tr>\n",
       "      <th>1</th>\n",
       "      <td>ultra</td>\n",
       "      <td>6</td>\n",
       "      <td>0</td>\n",
       "      <td>199</td>\n",
       "    </tr>\n",
       "  </tbody>\n",
       "</table>\n",
       "</div>"
      ],
      "text/plain": [
       "  subscription_type  minute_price  start_ride_price  subscription_fee\n",
       "0              free             8                50                 0\n",
       "1             ultra             6                 0               199"
      ]
     },
     "execution_count": 20,
     "metadata": {},
     "output_type": "execute_result"
    }
   ],
   "source": [
    "subscriptions_go_df.head()"
   ]
  },
  {
   "cell_type": "markdown",
   "id": "933ad41e-0f68-4285-8e00-db0664eac945",
   "metadata": {},
   "source": [
    "Тут просто указаны подписки и дубликаты отсутсвуют."
   ]
  },
  {
   "cell_type": "markdown",
   "id": "d746d4c4-7b49-4750-8ab7-578d6860d0e7",
   "metadata": {
    "jp-MarkdownHeadingCollapsed": true
   },
   "source": [
    "### Шаг 3. Исследовательский анализ данных"
   ]
  },
  {
   "cell_type": "markdown",
   "id": "b7e74ec2-9b31-4b5e-aa03-2edfa1a07f25",
   "metadata": {
    "jp-MarkdownHeadingCollapsed": true
   },
   "source": [
    "#### Частота встречаемости городов"
   ]
  },
  {
   "cell_type": "code",
   "execution_count": 21,
   "id": "456c5a73-2324-4de2-b975-09e329fb4daa",
   "metadata": {},
   "outputs": [
    {
     "data": {
      "text/plain": [
       "city\n",
       "Пятигорск         219\n",
       "Екатеринбург      204\n",
       "Ростов-на-Дону    198\n",
       "Краснодар         193\n",
       "Сочи              189\n",
       "Омск              183\n",
       "Тюмень            180\n",
       "Москва            168\n",
       "Name: user_id, dtype: int64"
      ]
     },
     "execution_count": 21,
     "metadata": {},
     "output_type": "execute_result"
    }
   ],
   "source": [
    "users_go_df.groupby('city')['user_id'].count().sort_values(ascending=False)"
   ]
  },
  {
   "cell_type": "code",
   "execution_count": 22,
   "id": "8cab75de-04aa-4840-9e54-d33387847fbc",
   "metadata": {},
   "outputs": [
    {
     "data": {
      "image/png": "[encoded data removed]",
      "text/plain": [
       "<Figure size 1900x600 with 1 Axes>"
      ]
     },
     "metadata": {},
     "output_type": "display_data"
    }
   ],
   "source": [
    "(\n",
    "    users_go_df\n",
    "    .groupby('city')['user_id']\n",
    "    .count()\n",
    "    .sort_values()\n",
    "    .plot(kind = 'barh', figsize = (19,6), rot = -5, legend = False, fontsize = 16)\n",
    ");"
   ]
  },
  {
   "cell_type": "markdown",
   "id": "0399068d-d199-4a28-8899-336601d65664",
   "metadata": {},
   "source": [
    "#### Соотношение пользователей с подпиской и без"
   ]
  },
  {
   "cell_type": "code",
   "execution_count": 23,
   "id": "d4beaff8-3843-471a-bcd0-1eaaa3bf5f15",
   "metadata": {},
   "outputs": [
    {
     "data": {
      "text/plain": [
       "subscription_type\n",
       "free     835\n",
       "ultra    699\n",
       "Name: user_id, dtype: int64"
      ]
     },
     "execution_count": 23,
     "metadata": {},
     "output_type": "execute_result"
    }
   ],
   "source": [
    "users_go_df.groupby('subscription_type')['user_id'].count()"
   ]
  },
  {
   "cell_type": "code",
   "execution_count": 24,
   "id": "2f634fac-6d3b-42c3-b1a3-8dd92e40f5b9",
   "metadata": {},
   "outputs": [
    {
     "data": {
      "image/png": "[encoded data removed]",
      "text/plain": [
       "<Figure size 640x480 with 1 Axes>"
      ]
     },
     "metadata": {},
     "output_type": "display_data"
    }
   ],
   "source": [
    "(\n",
    "    users_go_df\n",
    "    .groupby('subscription_type')['user_id']\n",
    "    .count()\n",
    "    .sort_values()\n",
    "    .plot(kind='barh')\n",
    ");"
   ]
  },
  {
   "cell_type": "code",
   "execution_count": 25,
   "id": "874abf03-0a0b-4d2a-8adb-4b9d275373dd",
   "metadata": {},
   "outputs": [
    {
     "name": "stdout",
     "output_type": "stream",
     "text": [
      "Процент людей с подпиской = 45.57%\n",
      "Процент людей без подписки = 54.43%\n"
     ]
    }
   ],
   "source": [
    "count_free = users_go_df.groupby('subscription_type')['user_id'].count()['free']\n",
    "count_ultra = users_go_df.groupby('subscription_type')['user_id'].count()['ultra']\n",
    "print(f'Процент людей с подпиской = {round(count_ultra / (count_free+count_ultra) * 100, 2)}%')\n",
    "print(f'Процент людей без подписки = {round(count_free / (count_free+count_ultra) * 100, 2)}%')"
   ]
  },
  {
   "cell_type": "markdown",
   "id": "06140387-80be-4fa6-9900-2513b16c2343",
   "metadata": {},
   "source": [
    "#### Возраст пользователей"
   ]
  },
  {
   "cell_type": "code",
   "execution_count": 26,
   "id": "f7519795-3618-4684-b9cb-f3b679f756dc",
   "metadata": {},
   "outputs": [
    {
     "data": {
      "image/png": "[encoded data removed]",
      "text/plain": [
       "<Figure size 640x480 with 1 Axes>"
      ]
     },
     "metadata": {},
     "output_type": "display_data"
    }
   ],
   "source": [
    "users_go_df['age'].hist(bins=45);"
   ]
  },
  {
   "cell_type": "code",
   "execution_count": 27,
   "id": "f1cae22d-6ba6-4afa-aca6-03913d57b310",
   "metadata": {},
   "outputs": [
    {
     "data": {
      "text/plain": [
       "24.903520208604956"
      ]
     },
     "execution_count": 27,
     "metadata": {},
     "output_type": "execute_result"
    }
   ],
   "source": [
    "users_go_df['age'].mean()"
   ]
  },
  {
   "cell_type": "markdown",
   "id": "7c4459d1-62c5-446a-8573-9c667941925a",
   "metadata": {},
   "source": [
    "Как мы можем увидеть, возраста распределены нормально вокруг среднего - 24.9."
   ]
  },
  {
   "cell_type": "markdown",
   "id": "bd031625-e1d8-4481-8bc2-910f3b2c16e0",
   "metadata": {
    "jp-MarkdownHeadingCollapsed": true
   },
   "source": [
    "#### Расстояние, преодоленное последователем за поездку"
   ]
  },
  {
   "cell_type": "code",
   "execution_count": 28,
   "id": "38147324-9f6a-4368-91ef-a0d520300252",
   "metadata": {},
   "outputs": [
    {
     "data": {
      "image/png": "[encoded data removed]",
      "text/plain": [
       "<Figure size 640x480 with 1 Axes>"
      ]
     },
     "metadata": {},
     "output_type": "display_data"
    }
   ],
   "source": [
    "rides_go_df['distance'].hist(bins=350);"
   ]
  },
  {
   "cell_type": "code",
   "execution_count": 29,
   "id": "f2a1157b-a042-46c4-acca-eca470a87b22",
   "metadata": {},
   "outputs": [
    {
     "data": {
      "text/plain": [
       "703.8897195239714"
      ]
     },
     "execution_count": 29,
     "metadata": {},
     "output_type": "execute_result"
    }
   ],
   "source": [
    "rides_go_df.query('distance<1500')['distance'].mean()"
   ]
  },
  {
   "cell_type": "code",
   "execution_count": 30,
   "id": "ee9db5a8-e875-4170-b457-d42f0a041e02",
   "metadata": {},
   "outputs": [
    {
     "data": {
      "text/plain": [
       "3331.889042794689"
      ]
     },
     "execution_count": 30,
     "metadata": {},
     "output_type": "execute_result"
    }
   ],
   "source": [
    "rides_go_df.query('1500<distance')['distance'].mean()"
   ]
  },
  {
   "cell_type": "markdown",
   "id": "ae439b08-e02f-484a-86fa-c20c5e3da025",
   "metadata": {},
   "source": [
    "У нас распределения с двумя колоколами, у одного пик - 703.8, у другого - 3331.8."
   ]
  },
  {
   "cell_type": "markdown",
   "id": "0228a64d-b0e2-4169-969b-ee7476e2a9be",
   "metadata": {},
   "source": [
    "#### Продолжительность поездок"
   ]
  },
  {
   "cell_type": "code",
   "execution_count": 31,
   "id": "9ca98960-e6bf-4b3e-8bef-8d8831717db2",
   "metadata": {},
   "outputs": [
    {
     "data": {
      "image/png": "[encoded data removed]",
      "text/plain": [
       "<Figure size 640x480 with 1 Axes>"
      ]
     },
     "metadata": {},
     "output_type": "display_data"
    }
   ],
   "source": [
    "rides_go_df['duration'].hist(bins=45);"
   ]
  },
  {
   "cell_type": "code",
   "execution_count": 32,
   "id": "dec6acbb-657f-4309-8481-c2aaf78c3067",
   "metadata": {},
   "outputs": [
    {
     "data": {
      "text/plain": [
       "17.80501119798444"
      ]
     },
     "execution_count": 32,
     "metadata": {},
     "output_type": "execute_result"
    }
   ],
   "source": [
    "rides_go_df['duration'].mean()"
   ]
  },
  {
   "cell_type": "markdown",
   "id": "c8c921e0-8d0d-4bbb-8c2f-d3ac9daf6391",
   "metadata": {},
   "source": [
    "Как мы можем увидеть, времена распределены нормально вокруг среднего - 17.8. За исключением выброса около нуля."
   ]
  },
  {
   "cell_type": "markdown",
   "id": "3c43e4be-7b32-49f0-ad2a-823d75652d69",
   "metadata": {
    "jp-MarkdownHeadingCollapsed": true
   },
   "source": [
    "### Шаг 4. Объединение данных"
   ]
  },
  {
   "cell_type": "markdown",
   "id": "d356cb25-50b4-4122-825b-a1985512a6e2",
   "metadata": {
    "jp-MarkdownHeadingCollapsed": true
   },
   "source": [
    "#### Объединение данных о пользователях и поездках"
   ]
  },
  {
   "cell_type": "code",
   "execution_count": 33,
   "id": "adbf0567-130c-4114-915f-8e002406bf3d",
   "metadata": {},
   "outputs": [],
   "source": [
    "user_rides_df = rides_go_df.merge(users_go_df, on='user_id')\n",
    "user_rides_df = pd.merge(user_rides_df, subscriptions_go_df, how='left', on='subscription_type')"
   ]
  },
  {
   "cell_type": "code",
   "execution_count": 34,
   "id": "9573b268-3c17-4303-a82d-ab68bab7b38e",
   "metadata": {},
   "outputs": [
    {
     "data": {
      "text/html": [
       "<div>\n",
       "<style scoped>\n",
       "    .dataframe tbody tr th:only-of-type {\n",
       "        vertical-align: middle;\n",
       "    }\n",
       "\n",
       "    .dataframe tbody tr th {\n",
       "        vertical-align: top;\n",
       "    }\n",
       "\n",
       "    .dataframe thead th {\n",
       "        text-align: right;\n",
       "    }\n",
       "</style>\n",
       "<table border=\"1\" class=\"dataframe\">\n",
       "  <thead>\n",
       "    <tr style=\"text-align: right;\">\n",
       "      <th></th>\n",
       "      <th>user_id</th>\n",
       "      <th>distance</th>\n",
       "      <th>duration</th>\n",
       "      <th>date</th>\n",
       "      <th>month</th>\n",
       "      <th>name</th>\n",
       "      <th>age</th>\n",
       "      <th>city</th>\n",
       "      <th>subscription_type</th>\n",
       "      <th>minute_price</th>\n",
       "      <th>start_ride_price</th>\n",
       "      <th>subscription_fee</th>\n",
       "    </tr>\n",
       "  </thead>\n",
       "  <tbody>\n",
       "    <tr>\n",
       "      <th>0</th>\n",
       "      <td>1</td>\n",
       "      <td>4409.919140</td>\n",
       "      <td>25.599769</td>\n",
       "      <td>2021-01-01</td>\n",
       "      <td>1</td>\n",
       "      <td>Кира</td>\n",
       "      <td>22</td>\n",
       "      <td>Тюмень</td>\n",
       "      <td>ultra</td>\n",
       "      <td>6</td>\n",
       "      <td>0</td>\n",
       "      <td>199</td>\n",
       "    </tr>\n",
       "    <tr>\n",
       "      <th>1</th>\n",
       "      <td>1</td>\n",
       "      <td>2617.592153</td>\n",
       "      <td>15.816871</td>\n",
       "      <td>2021-01-18</td>\n",
       "      <td>1</td>\n",
       "      <td>Кира</td>\n",
       "      <td>22</td>\n",
       "      <td>Тюмень</td>\n",
       "      <td>ultra</td>\n",
       "      <td>6</td>\n",
       "      <td>0</td>\n",
       "      <td>199</td>\n",
       "    </tr>\n",
       "    <tr>\n",
       "      <th>2</th>\n",
       "      <td>1</td>\n",
       "      <td>754.159807</td>\n",
       "      <td>6.232113</td>\n",
       "      <td>2021-04-20</td>\n",
       "      <td>4</td>\n",
       "      <td>Кира</td>\n",
       "      <td>22</td>\n",
       "      <td>Тюмень</td>\n",
       "      <td>ultra</td>\n",
       "      <td>6</td>\n",
       "      <td>0</td>\n",
       "      <td>199</td>\n",
       "    </tr>\n",
       "    <tr>\n",
       "      <th>3</th>\n",
       "      <td>1</td>\n",
       "      <td>2694.783254</td>\n",
       "      <td>18.511000</td>\n",
       "      <td>2021-08-11</td>\n",
       "      <td>8</td>\n",
       "      <td>Кира</td>\n",
       "      <td>22</td>\n",
       "      <td>Тюмень</td>\n",
       "      <td>ultra</td>\n",
       "      <td>6</td>\n",
       "      <td>0</td>\n",
       "      <td>199</td>\n",
       "    </tr>\n",
       "    <tr>\n",
       "      <th>4</th>\n",
       "      <td>1</td>\n",
       "      <td>4028.687306</td>\n",
       "      <td>26.265803</td>\n",
       "      <td>2021-08-28</td>\n",
       "      <td>8</td>\n",
       "      <td>Кира</td>\n",
       "      <td>22</td>\n",
       "      <td>Тюмень</td>\n",
       "      <td>ultra</td>\n",
       "      <td>6</td>\n",
       "      <td>0</td>\n",
       "      <td>199</td>\n",
       "    </tr>\n",
       "  </tbody>\n",
       "</table>\n",
       "</div>"
      ],
      "text/plain": [
       "   user_id     distance   duration       date  month  name  age    city  \\\n",
       "0        1  4409.919140  25.599769 2021-01-01      1  Кира   22  Тюмень   \n",
       "1        1  2617.592153  15.816871 2021-01-18      1  Кира   22  Тюмень   \n",
       "2        1   754.159807   6.232113 2021-04-20      4  Кира   22  Тюмень   \n",
       "3        1  2694.783254  18.511000 2021-08-11      8  Кира   22  Тюмень   \n",
       "4        1  4028.687306  26.265803 2021-08-28      8  Кира   22  Тюмень   \n",
       "\n",
       "  subscription_type  minute_price  start_ride_price  subscription_fee  \n",
       "0             ultra             6                 0               199  \n",
       "1             ultra             6                 0               199  \n",
       "2             ultra             6                 0               199  \n",
       "3             ultra             6                 0               199  \n",
       "4             ultra             6                 0               199  "
      ]
     },
     "execution_count": 34,
     "metadata": {},
     "output_type": "execute_result"
    }
   ],
   "source": [
    "user_rides_df.head()"
   ]
  },
  {
   "cell_type": "markdown",
   "id": "83e2daae-cf08-44b5-a28b-2e9b64e8968f",
   "metadata": {
    "jp-MarkdownHeadingCollapsed": true
   },
   "source": [
    "#### Разделение датафрейма на пользователей с подпиской и без"
   ]
  },
  {
   "cell_type": "code",
   "execution_count": 35,
   "id": "db76f01d-a738-4dc7-a7c3-d7298ef247d9",
   "metadata": {},
   "outputs": [
    {
     "data": {
      "text/html": [
       "<div>\n",
       "<style scoped>\n",
       "    .dataframe tbody tr th:only-of-type {\n",
       "        vertical-align: middle;\n",
       "    }\n",
       "\n",
       "    .dataframe tbody tr th {\n",
       "        vertical-align: top;\n",
       "    }\n",
       "\n",
       "    .dataframe thead th {\n",
       "        text-align: right;\n",
       "    }\n",
       "</style>\n",
       "<table border=\"1\" class=\"dataframe\">\n",
       "  <thead>\n",
       "    <tr style=\"text-align: right;\">\n",
       "      <th></th>\n",
       "      <th>user_id</th>\n",
       "      <th>distance</th>\n",
       "      <th>duration</th>\n",
       "      <th>date</th>\n",
       "      <th>month</th>\n",
       "      <th>name</th>\n",
       "      <th>age</th>\n",
       "      <th>city</th>\n",
       "      <th>subscription_type</th>\n",
       "      <th>minute_price</th>\n",
       "      <th>start_ride_price</th>\n",
       "      <th>subscription_fee</th>\n",
       "    </tr>\n",
       "  </thead>\n",
       "  <tbody>\n",
       "    <tr>\n",
       "      <th>6500</th>\n",
       "      <td>700</td>\n",
       "      <td>2515.690719</td>\n",
       "      <td>14.944286</td>\n",
       "      <td>2021-01-02</td>\n",
       "      <td>1</td>\n",
       "      <td>Айдар</td>\n",
       "      <td>22</td>\n",
       "      <td>Омск</td>\n",
       "      <td>free</td>\n",
       "      <td>8</td>\n",
       "      <td>50</td>\n",
       "      <td>0</td>\n",
       "    </tr>\n",
       "    <tr>\n",
       "      <th>6501</th>\n",
       "      <td>700</td>\n",
       "      <td>846.932642</td>\n",
       "      <td>16.234663</td>\n",
       "      <td>2021-02-01</td>\n",
       "      <td>2</td>\n",
       "      <td>Айдар</td>\n",
       "      <td>22</td>\n",
       "      <td>Омск</td>\n",
       "      <td>free</td>\n",
       "      <td>8</td>\n",
       "      <td>50</td>\n",
       "      <td>0</td>\n",
       "    </tr>\n",
       "    <tr>\n",
       "      <th>6502</th>\n",
       "      <td>700</td>\n",
       "      <td>4004.434142</td>\n",
       "      <td>20.016628</td>\n",
       "      <td>2021-02-04</td>\n",
       "      <td>2</td>\n",
       "      <td>Айдар</td>\n",
       "      <td>22</td>\n",
       "      <td>Омск</td>\n",
       "      <td>free</td>\n",
       "      <td>8</td>\n",
       "      <td>50</td>\n",
       "      <td>0</td>\n",
       "    </tr>\n",
       "    <tr>\n",
       "      <th>6503</th>\n",
       "      <td>700</td>\n",
       "      <td>1205.911290</td>\n",
       "      <td>9.782872</td>\n",
       "      <td>2021-02-10</td>\n",
       "      <td>2</td>\n",
       "      <td>Айдар</td>\n",
       "      <td>22</td>\n",
       "      <td>Омск</td>\n",
       "      <td>free</td>\n",
       "      <td>8</td>\n",
       "      <td>50</td>\n",
       "      <td>0</td>\n",
       "    </tr>\n",
       "    <tr>\n",
       "      <th>6504</th>\n",
       "      <td>700</td>\n",
       "      <td>3047.379435</td>\n",
       "      <td>17.427673</td>\n",
       "      <td>2021-02-14</td>\n",
       "      <td>2</td>\n",
       "      <td>Айдар</td>\n",
       "      <td>22</td>\n",
       "      <td>Омск</td>\n",
       "      <td>free</td>\n",
       "      <td>8</td>\n",
       "      <td>50</td>\n",
       "      <td>0</td>\n",
       "    </tr>\n",
       "  </tbody>\n",
       "</table>\n",
       "</div>"
      ],
      "text/plain": [
       "      user_id     distance   duration       date  month   name  age  city  \\\n",
       "6500      700  2515.690719  14.944286 2021-01-02      1  Айдар   22  Омск   \n",
       "6501      700   846.932642  16.234663 2021-02-01      2  Айдар   22  Омск   \n",
       "6502      700  4004.434142  20.016628 2021-02-04      2  Айдар   22  Омск   \n",
       "6503      700  1205.911290   9.782872 2021-02-10      2  Айдар   22  Омск   \n",
       "6504      700  3047.379435  17.427673 2021-02-14      2  Айдар   22  Омск   \n",
       "\n",
       "     subscription_type  minute_price  start_ride_price  subscription_fee  \n",
       "6500              free             8                50                 0  \n",
       "6501              free             8                50                 0  \n",
       "6502              free             8                50                 0  \n",
       "6503              free             8                50                 0  \n",
       "6504              free             8                50                 0  "
      ]
     },
     "execution_count": 35,
     "metadata": {},
     "output_type": "execute_result"
    }
   ],
   "source": [
    "user_free_rides_df = user_rides_df.query('subscription_type==\"free\"')\n",
    "user_free_rides_df.head()"
   ]
  },
  {
   "cell_type": "code",
   "execution_count": 36,
   "id": "2d7c4a1a-708f-4840-b69b-14df7ed54abd",
   "metadata": {},
   "outputs": [
    {
     "data": {
      "text/html": [
       "<div>\n",
       "<style scoped>\n",
       "    .dataframe tbody tr th:only-of-type {\n",
       "        vertical-align: middle;\n",
       "    }\n",
       "\n",
       "    .dataframe tbody tr th {\n",
       "        vertical-align: top;\n",
       "    }\n",
       "\n",
       "    .dataframe thead th {\n",
       "        text-align: right;\n",
       "    }\n",
       "</style>\n",
       "<table border=\"1\" class=\"dataframe\">\n",
       "  <thead>\n",
       "    <tr style=\"text-align: right;\">\n",
       "      <th></th>\n",
       "      <th>user_id</th>\n",
       "      <th>distance</th>\n",
       "      <th>duration</th>\n",
       "      <th>date</th>\n",
       "      <th>month</th>\n",
       "      <th>name</th>\n",
       "      <th>age</th>\n",
       "      <th>city</th>\n",
       "      <th>subscription_type</th>\n",
       "      <th>minute_price</th>\n",
       "      <th>start_ride_price</th>\n",
       "      <th>subscription_fee</th>\n",
       "    </tr>\n",
       "  </thead>\n",
       "  <tbody>\n",
       "    <tr>\n",
       "      <th>0</th>\n",
       "      <td>1</td>\n",
       "      <td>4409.919140</td>\n",
       "      <td>25.599769</td>\n",
       "      <td>2021-01-01</td>\n",
       "      <td>1</td>\n",
       "      <td>Кира</td>\n",
       "      <td>22</td>\n",
       "      <td>Тюмень</td>\n",
       "      <td>ultra</td>\n",
       "      <td>6</td>\n",
       "      <td>0</td>\n",
       "      <td>199</td>\n",
       "    </tr>\n",
       "    <tr>\n",
       "      <th>1</th>\n",
       "      <td>1</td>\n",
       "      <td>2617.592153</td>\n",
       "      <td>15.816871</td>\n",
       "      <td>2021-01-18</td>\n",
       "      <td>1</td>\n",
       "      <td>Кира</td>\n",
       "      <td>22</td>\n",
       "      <td>Тюмень</td>\n",
       "      <td>ultra</td>\n",
       "      <td>6</td>\n",
       "      <td>0</td>\n",
       "      <td>199</td>\n",
       "    </tr>\n",
       "    <tr>\n",
       "      <th>2</th>\n",
       "      <td>1</td>\n",
       "      <td>754.159807</td>\n",
       "      <td>6.232113</td>\n",
       "      <td>2021-04-20</td>\n",
       "      <td>4</td>\n",
       "      <td>Кира</td>\n",
       "      <td>22</td>\n",
       "      <td>Тюмень</td>\n",
       "      <td>ultra</td>\n",
       "      <td>6</td>\n",
       "      <td>0</td>\n",
       "      <td>199</td>\n",
       "    </tr>\n",
       "    <tr>\n",
       "      <th>3</th>\n",
       "      <td>1</td>\n",
       "      <td>2694.783254</td>\n",
       "      <td>18.511000</td>\n",
       "      <td>2021-08-11</td>\n",
       "      <td>8</td>\n",
       "      <td>Кира</td>\n",
       "      <td>22</td>\n",
       "      <td>Тюмень</td>\n",
       "      <td>ultra</td>\n",
       "      <td>6</td>\n",
       "      <td>0</td>\n",
       "      <td>199</td>\n",
       "    </tr>\n",
       "    <tr>\n",
       "      <th>4</th>\n",
       "      <td>1</td>\n",
       "      <td>4028.687306</td>\n",
       "      <td>26.265803</td>\n",
       "      <td>2021-08-28</td>\n",
       "      <td>8</td>\n",
       "      <td>Кира</td>\n",
       "      <td>22</td>\n",
       "      <td>Тюмень</td>\n",
       "      <td>ultra</td>\n",
       "      <td>6</td>\n",
       "      <td>0</td>\n",
       "      <td>199</td>\n",
       "    </tr>\n",
       "  </tbody>\n",
       "</table>\n",
       "</div>"
      ],
      "text/plain": [
       "   user_id     distance   duration       date  month  name  age    city  \\\n",
       "0        1  4409.919140  25.599769 2021-01-01      1  Кира   22  Тюмень   \n",
       "1        1  2617.592153  15.816871 2021-01-18      1  Кира   22  Тюмень   \n",
       "2        1   754.159807   6.232113 2021-04-20      4  Кира   22  Тюмень   \n",
       "3        1  2694.783254  18.511000 2021-08-11      8  Кира   22  Тюмень   \n",
       "4        1  4028.687306  26.265803 2021-08-28      8  Кира   22  Тюмень   \n",
       "\n",
       "  subscription_type  minute_price  start_ride_price  subscription_fee  \n",
       "0             ultra             6                 0               199  \n",
       "1             ultra             6                 0               199  \n",
       "2             ultra             6                 0               199  \n",
       "3             ultra             6                 0               199  \n",
       "4             ultra             6                 0               199  "
      ]
     },
     "execution_count": 36,
     "metadata": {},
     "output_type": "execute_result"
    }
   ],
   "source": [
    "user_ultra_rides_df = user_rides_df.query('subscription_type==\"ultra\"')\n",
    "user_ultra_rides_df.head()"
   ]
  },
  {
   "cell_type": "markdown",
   "id": "7a299e73-27af-4db4-becd-ab00237321c0",
   "metadata": {},
   "source": [
    "#### Визуализация информации о пользователях с подпиской и без"
   ]
  },
  {
   "cell_type": "markdown",
   "id": "94cc6ff3-d00d-4865-b587-74216d39cac3",
   "metadata": {
    "jp-MarkdownHeadingCollapsed": true
   },
   "source": [
    "##### Пользователи без подписки"
   ]
  },
  {
   "cell_type": "code",
   "execution_count": 37,
   "id": "3fa88a09-35a8-4291-ad5e-7a9c8fc5d6b0",
   "metadata": {},
   "outputs": [
    {
     "data": {
      "image/png": "[encoded data removed]",
      "text/plain": [
       "<Figure size 640x480 with 1 Axes>"
      ]
     },
     "metadata": {},
     "output_type": "display_data"
    }
   ],
   "source": [
    "user_free_rides_df['distance'].hist(bins=350);"
   ]
  },
  {
   "cell_type": "markdown",
   "id": "8a1ba4c4-2dd0-493f-85a9-8d361cc2c705",
   "metadata": {},
   "source": [
    "Гистограмма расстояния имеет похожий пик на то, что мы видели ранее, однако, у второго колокола нет ярковыраженного пика."
   ]
  },
  {
   "cell_type": "code",
   "execution_count": 38,
   "id": "935ad38b-45a9-4578-a368-9d095240859b",
   "metadata": {},
   "outputs": [
    {
     "data": {
      "image/png": "[encoded data removed]",
      "text/plain": [
       "<Figure size 640x480 with 1 Axes>"
      ]
     },
     "metadata": {},
     "output_type": "display_data"
    }
   ],
   "source": [
    "user_free_rides_df['duration'].hist(bins=35);"
   ]
  },
  {
   "attachments": {},
   "cell_type": "markdown",
   "id": "3313c800-1630-491e-8edb-97eb2afd2cba",
   "metadata": {},
   "source": [
    "Гистограмма длительности близка к нормальному распределению, опять же с выбросом около 0."
   ]
  },
  {
   "cell_type": "markdown",
   "id": "cc681d32-95df-4930-bddc-5527b5b3fdc5",
   "metadata": {
    "jp-MarkdownHeadingCollapsed": true
   },
   "source": [
    "##### Пользователи с подпиской"
   ]
  },
  {
   "cell_type": "code",
   "execution_count": 39,
   "id": "a7879338-a963-441d-99b2-915aae6a335e",
   "metadata": {},
   "outputs": [
    {
     "data": {
      "image/png": "[encoded data removed]",
      "text/plain": [
       "<Figure size 640x480 with 1 Axes>"
      ]
     },
     "metadata": {},
     "output_type": "display_data"
    }
   ],
   "source": [
    "user_ultra_rides_df['distance'].hist(bins=250);"
   ]
  },
  {
   "cell_type": "markdown",
   "id": "0b025b54-8506-40fd-808c-651f012563e2",
   "metadata": {},
   "source": [
    "Колокола по сравнению с пользователями без подписки более узкие и каждый ближе к нормальному."
   ]
  },
  {
   "cell_type": "code",
   "execution_count": 40,
   "id": "812e3969-4310-4b44-94b2-79eb94a9de1a",
   "metadata": {},
   "outputs": [
    {
     "data": {
      "image/png": "[encoded data removed]",
      "text/plain": [
       "<Figure size 640x480 with 1 Axes>"
      ]
     },
     "metadata": {},
     "output_type": "display_data"
    }
   ],
   "source": [
    "user_ultra_rides_df['duration'].hist(bins=40);"
   ]
  },
  {
   "cell_type": "markdown",
   "id": "dc8ffc35-e485-4157-9d5e-2f37023a328c",
   "metadata": {
    "jp-MarkdownHeadingCollapsed": true
   },
   "source": [
    "### Шаг 5. Подсчёт выручки"
   ]
  },
  {
   "cell_type": "markdown",
   "id": "26825331-73b1-4129-bccd-50401713d3a5",
   "metadata": {
    "jp-MarkdownHeadingCollapsed": true
   },
   "source": [
    "#### Агрегация данных"
   ]
  },
  {
   "cell_type": "code",
   "execution_count": 41,
   "id": "c2e83ebc-cbba-4eca-87a8-0ad068e096f4",
   "metadata": {},
   "outputs": [
    {
     "data": {
      "text/html": [
       "<div>\n",
       "<style scoped>\n",
       "    .dataframe tbody tr th:only-of-type {\n",
       "        vertical-align: middle;\n",
       "    }\n",
       "\n",
       "    .dataframe tbody tr th {\n",
       "        vertical-align: top;\n",
       "    }\n",
       "\n",
       "    .dataframe thead th {\n",
       "        text-align: right;\n",
       "    }\n",
       "</style>\n",
       "<table border=\"1\" class=\"dataframe\">\n",
       "  <thead>\n",
       "    <tr style=\"text-align: right;\">\n",
       "      <th></th>\n",
       "      <th>user_id</th>\n",
       "      <th>month</th>\n",
       "      <th>distance</th>\n",
       "      <th>duration</th>\n",
       "      <th>count</th>\n",
       "      <th>name</th>\n",
       "      <th>age</th>\n",
       "      <th>city</th>\n",
       "      <th>subscription_type</th>\n",
       "      <th>minute_price</th>\n",
       "      <th>start_ride_price</th>\n",
       "      <th>subscription_fee</th>\n",
       "    </tr>\n",
       "  </thead>\n",
       "  <tbody>\n",
       "    <tr>\n",
       "      <th>0</th>\n",
       "      <td>1</td>\n",
       "      <td>1</td>\n",
       "      <td>7027.511294</td>\n",
       "      <td>41.416640</td>\n",
       "      <td>2</td>\n",
       "      <td>Кира</td>\n",
       "      <td>22</td>\n",
       "      <td>Тюмень</td>\n",
       "      <td>ultra</td>\n",
       "      <td>6</td>\n",
       "      <td>0</td>\n",
       "      <td>199</td>\n",
       "    </tr>\n",
       "    <tr>\n",
       "      <th>1</th>\n",
       "      <td>1</td>\n",
       "      <td>4</td>\n",
       "      <td>754.159807</td>\n",
       "      <td>6.232113</td>\n",
       "      <td>1</td>\n",
       "      <td>Кира</td>\n",
       "      <td>22</td>\n",
       "      <td>Тюмень</td>\n",
       "      <td>ultra</td>\n",
       "      <td>6</td>\n",
       "      <td>0</td>\n",
       "      <td>199</td>\n",
       "    </tr>\n",
       "    <tr>\n",
       "      <th>2</th>\n",
       "      <td>1</td>\n",
       "      <td>8</td>\n",
       "      <td>6723.470560</td>\n",
       "      <td>44.776802</td>\n",
       "      <td>2</td>\n",
       "      <td>Кира</td>\n",
       "      <td>22</td>\n",
       "      <td>Тюмень</td>\n",
       "      <td>ultra</td>\n",
       "      <td>6</td>\n",
       "      <td>0</td>\n",
       "      <td>199</td>\n",
       "    </tr>\n",
       "    <tr>\n",
       "      <th>3</th>\n",
       "      <td>1</td>\n",
       "      <td>10</td>\n",
       "      <td>5809.911100</td>\n",
       "      <td>31.578017</td>\n",
       "      <td>2</td>\n",
       "      <td>Кира</td>\n",
       "      <td>22</td>\n",
       "      <td>Тюмень</td>\n",
       "      <td>ultra</td>\n",
       "      <td>6</td>\n",
       "      <td>0</td>\n",
       "      <td>199</td>\n",
       "    </tr>\n",
       "    <tr>\n",
       "      <th>4</th>\n",
       "      <td>1</td>\n",
       "      <td>11</td>\n",
       "      <td>7003.499363</td>\n",
       "      <td>53.397424</td>\n",
       "      <td>3</td>\n",
       "      <td>Кира</td>\n",
       "      <td>22</td>\n",
       "      <td>Тюмень</td>\n",
       "      <td>ultra</td>\n",
       "      <td>6</td>\n",
       "      <td>0</td>\n",
       "      <td>199</td>\n",
       "    </tr>\n",
       "    <tr>\n",
       "      <th>5</th>\n",
       "      <td>1</td>\n",
       "      <td>12</td>\n",
       "      <td>6751.629942</td>\n",
       "      <td>27.203912</td>\n",
       "      <td>2</td>\n",
       "      <td>Кира</td>\n",
       "      <td>22</td>\n",
       "      <td>Тюмень</td>\n",
       "      <td>ultra</td>\n",
       "      <td>6</td>\n",
       "      <td>0</td>\n",
       "      <td>199</td>\n",
       "    </tr>\n",
       "    <tr>\n",
       "      <th>6</th>\n",
       "      <td>2</td>\n",
       "      <td>3</td>\n",
       "      <td>10187.723006</td>\n",
       "      <td>60.959959</td>\n",
       "      <td>3</td>\n",
       "      <td>Станислав</td>\n",
       "      <td>31</td>\n",
       "      <td>Омск</td>\n",
       "      <td>ultra</td>\n",
       "      <td>6</td>\n",
       "      <td>0</td>\n",
       "      <td>199</td>\n",
       "    </tr>\n",
       "    <tr>\n",
       "      <th>7</th>\n",
       "      <td>2</td>\n",
       "      <td>4</td>\n",
       "      <td>6164.381824</td>\n",
       "      <td>39.048633</td>\n",
       "      <td>2</td>\n",
       "      <td>Станислав</td>\n",
       "      <td>31</td>\n",
       "      <td>Омск</td>\n",
       "      <td>ultra</td>\n",
       "      <td>6</td>\n",
       "      <td>0</td>\n",
       "      <td>199</td>\n",
       "    </tr>\n",
       "    <tr>\n",
       "      <th>8</th>\n",
       "      <td>2</td>\n",
       "      <td>6</td>\n",
       "      <td>3255.338202</td>\n",
       "      <td>13.851127</td>\n",
       "      <td>1</td>\n",
       "      <td>Станислав</td>\n",
       "      <td>31</td>\n",
       "      <td>Омск</td>\n",
       "      <td>ultra</td>\n",
       "      <td>6</td>\n",
       "      <td>0</td>\n",
       "      <td>199</td>\n",
       "    </tr>\n",
       "    <tr>\n",
       "      <th>9</th>\n",
       "      <td>2</td>\n",
       "      <td>7</td>\n",
       "      <td>6780.722964</td>\n",
       "      <td>46.170157</td>\n",
       "      <td>2</td>\n",
       "      <td>Станислав</td>\n",
       "      <td>31</td>\n",
       "      <td>Омск</td>\n",
       "      <td>ultra</td>\n",
       "      <td>6</td>\n",
       "      <td>0</td>\n",
       "      <td>199</td>\n",
       "    </tr>\n",
       "  </tbody>\n",
       "</table>\n",
       "</div>"
      ],
      "text/plain": [
       "   user_id  month      distance   duration  count       name  age    city  \\\n",
       "0        1      1   7027.511294  41.416640      2       Кира   22  Тюмень   \n",
       "1        1      4    754.159807   6.232113      1       Кира   22  Тюмень   \n",
       "2        1      8   6723.470560  44.776802      2       Кира   22  Тюмень   \n",
       "3        1     10   5809.911100  31.578017      2       Кира   22  Тюмень   \n",
       "4        1     11   7003.499363  53.397424      3       Кира   22  Тюмень   \n",
       "5        1     12   6751.629942  27.203912      2       Кира   22  Тюмень   \n",
       "6        2      3  10187.723006  60.959959      3  Станислав   31    Омск   \n",
       "7        2      4   6164.381824  39.048633      2  Станислав   31    Омск   \n",
       "8        2      6   3255.338202  13.851127      1  Станислав   31    Омск   \n",
       "9        2      7   6780.722964  46.170157      2  Станислав   31    Омск   \n",
       "\n",
       "  subscription_type  minute_price  start_ride_price  subscription_fee  \n",
       "0             ultra             6                 0               199  \n",
       "1             ultra             6                 0               199  \n",
       "2             ultra             6                 0               199  \n",
       "3             ultra             6                 0               199  \n",
       "4             ultra             6                 0               199  \n",
       "5             ultra             6                 0               199  \n",
       "6             ultra             6                 0               199  \n",
       "7             ultra             6                 0               199  \n",
       "8             ultra             6                 0               199  \n",
       "9             ultra             6                 0               199  "
      ]
     },
     "execution_count": 41,
     "metadata": {},
     "output_type": "execute_result"
    }
   ],
   "source": [
    "user_month_rides_df = user_rides_df.groupby(['user_id', 'month']) \\\n",
    "    .agg({'distance': 'sum', 'duration': 'sum', 'month': 'count'})\n",
    "user_month_rides_df.columns= ['distance', 'duration', 'count']\n",
    "user_month_rides_df = user_month_rides_df.reset_index()\n",
    "user_month_rides_df = user_month_rides_df.merge(users_go_df, on='user_id')\n",
    "user_month_rides_df = user_month_rides_df.merge(subscriptions_go_df, on='subscription_type')\n",
    "user_month_rides_df.head(10)"
   ]
  },
  {
   "cell_type": "markdown",
   "id": "e48a4a90-da98-4953-afbf-bb76c2ee3a11",
   "metadata": {},
   "source": [
    "#### Подсчет выручки от каждого пользователя"
   ]
  },
  {
   "cell_type": "markdown",
   "id": "79b1d554-6ca7-4746-8506-b52fe7700e24",
   "metadata": {
    "jp-MarkdownHeadingCollapsed": true
   },
   "source": [
    "##### Округлим значения"
   ]
  },
  {
   "cell_type": "code",
   "execution_count": 42,
   "id": "7840ae5e-16c9-45ed-ac6c-ff3ec6bbb5ba",
   "metadata": {},
   "outputs": [],
   "source": [
    "user_month_rides_df['distance'] = np.ceil(user_month_rides_df['distance'])\n",
    "user_month_rides_df['duration'] = np.ceil(user_month_rides_df['duration'])"
   ]
  },
  {
   "cell_type": "code",
   "execution_count": 43,
   "id": "022ea5c1-6626-454d-a857-d04fc4924e45",
   "metadata": {},
   "outputs": [
    {
     "data": {
      "text/html": [
       "<div>\n",
       "<style scoped>\n",
       "    .dataframe tbody tr th:only-of-type {\n",
       "        vertical-align: middle;\n",
       "    }\n",
       "\n",
       "    .dataframe tbody tr th {\n",
       "        vertical-align: top;\n",
       "    }\n",
       "\n",
       "    .dataframe thead th {\n",
       "        text-align: right;\n",
       "    }\n",
       "</style>\n",
       "<table border=\"1\" class=\"dataframe\">\n",
       "  <thead>\n",
       "    <tr style=\"text-align: right;\">\n",
       "      <th></th>\n",
       "      <th>user_id</th>\n",
       "      <th>month</th>\n",
       "      <th>distance</th>\n",
       "      <th>duration</th>\n",
       "      <th>count</th>\n",
       "      <th>name</th>\n",
       "      <th>age</th>\n",
       "      <th>city</th>\n",
       "      <th>subscription_type</th>\n",
       "      <th>minute_price</th>\n",
       "      <th>start_ride_price</th>\n",
       "      <th>subscription_fee</th>\n",
       "    </tr>\n",
       "  </thead>\n",
       "  <tbody>\n",
       "    <tr>\n",
       "      <th>0</th>\n",
       "      <td>1</td>\n",
       "      <td>1</td>\n",
       "      <td>7028.0</td>\n",
       "      <td>42.0</td>\n",
       "      <td>2</td>\n",
       "      <td>Кира</td>\n",
       "      <td>22</td>\n",
       "      <td>Тюмень</td>\n",
       "      <td>ultra</td>\n",
       "      <td>6</td>\n",
       "      <td>0</td>\n",
       "      <td>199</td>\n",
       "    </tr>\n",
       "    <tr>\n",
       "      <th>1</th>\n",
       "      <td>1</td>\n",
       "      <td>4</td>\n",
       "      <td>755.0</td>\n",
       "      <td>7.0</td>\n",
       "      <td>1</td>\n",
       "      <td>Кира</td>\n",
       "      <td>22</td>\n",
       "      <td>Тюмень</td>\n",
       "      <td>ultra</td>\n",
       "      <td>6</td>\n",
       "      <td>0</td>\n",
       "      <td>199</td>\n",
       "    </tr>\n",
       "    <tr>\n",
       "      <th>2</th>\n",
       "      <td>1</td>\n",
       "      <td>8</td>\n",
       "      <td>6724.0</td>\n",
       "      <td>45.0</td>\n",
       "      <td>2</td>\n",
       "      <td>Кира</td>\n",
       "      <td>22</td>\n",
       "      <td>Тюмень</td>\n",
       "      <td>ultra</td>\n",
       "      <td>6</td>\n",
       "      <td>0</td>\n",
       "      <td>199</td>\n",
       "    </tr>\n",
       "    <tr>\n",
       "      <th>3</th>\n",
       "      <td>1</td>\n",
       "      <td>10</td>\n",
       "      <td>5810.0</td>\n",
       "      <td>32.0</td>\n",
       "      <td>2</td>\n",
       "      <td>Кира</td>\n",
       "      <td>22</td>\n",
       "      <td>Тюмень</td>\n",
       "      <td>ultra</td>\n",
       "      <td>6</td>\n",
       "      <td>0</td>\n",
       "      <td>199</td>\n",
       "    </tr>\n",
       "    <tr>\n",
       "      <th>4</th>\n",
       "      <td>1</td>\n",
       "      <td>11</td>\n",
       "      <td>7004.0</td>\n",
       "      <td>54.0</td>\n",
       "      <td>3</td>\n",
       "      <td>Кира</td>\n",
       "      <td>22</td>\n",
       "      <td>Тюмень</td>\n",
       "      <td>ultra</td>\n",
       "      <td>6</td>\n",
       "      <td>0</td>\n",
       "      <td>199</td>\n",
       "    </tr>\n",
       "    <tr>\n",
       "      <th>5</th>\n",
       "      <td>1</td>\n",
       "      <td>12</td>\n",
       "      <td>6752.0</td>\n",
       "      <td>28.0</td>\n",
       "      <td>2</td>\n",
       "      <td>Кира</td>\n",
       "      <td>22</td>\n",
       "      <td>Тюмень</td>\n",
       "      <td>ultra</td>\n",
       "      <td>6</td>\n",
       "      <td>0</td>\n",
       "      <td>199</td>\n",
       "    </tr>\n",
       "    <tr>\n",
       "      <th>6</th>\n",
       "      <td>2</td>\n",
       "      <td>3</td>\n",
       "      <td>10188.0</td>\n",
       "      <td>61.0</td>\n",
       "      <td>3</td>\n",
       "      <td>Станислав</td>\n",
       "      <td>31</td>\n",
       "      <td>Омск</td>\n",
       "      <td>ultra</td>\n",
       "      <td>6</td>\n",
       "      <td>0</td>\n",
       "      <td>199</td>\n",
       "    </tr>\n",
       "    <tr>\n",
       "      <th>7</th>\n",
       "      <td>2</td>\n",
       "      <td>4</td>\n",
       "      <td>6165.0</td>\n",
       "      <td>40.0</td>\n",
       "      <td>2</td>\n",
       "      <td>Станислав</td>\n",
       "      <td>31</td>\n",
       "      <td>Омск</td>\n",
       "      <td>ultra</td>\n",
       "      <td>6</td>\n",
       "      <td>0</td>\n",
       "      <td>199</td>\n",
       "    </tr>\n",
       "    <tr>\n",
       "      <th>8</th>\n",
       "      <td>2</td>\n",
       "      <td>6</td>\n",
       "      <td>3256.0</td>\n",
       "      <td>14.0</td>\n",
       "      <td>1</td>\n",
       "      <td>Станислав</td>\n",
       "      <td>31</td>\n",
       "      <td>Омск</td>\n",
       "      <td>ultra</td>\n",
       "      <td>6</td>\n",
       "      <td>0</td>\n",
       "      <td>199</td>\n",
       "    </tr>\n",
       "    <tr>\n",
       "      <th>9</th>\n",
       "      <td>2</td>\n",
       "      <td>7</td>\n",
       "      <td>6781.0</td>\n",
       "      <td>47.0</td>\n",
       "      <td>2</td>\n",
       "      <td>Станислав</td>\n",
       "      <td>31</td>\n",
       "      <td>Омск</td>\n",
       "      <td>ultra</td>\n",
       "      <td>6</td>\n",
       "      <td>0</td>\n",
       "      <td>199</td>\n",
       "    </tr>\n",
       "  </tbody>\n",
       "</table>\n",
       "</div>"
      ],
      "text/plain": [
       "   user_id  month  distance  duration  count       name  age    city  \\\n",
       "0        1      1    7028.0      42.0      2       Кира   22  Тюмень   \n",
       "1        1      4     755.0       7.0      1       Кира   22  Тюмень   \n",
       "2        1      8    6724.0      45.0      2       Кира   22  Тюмень   \n",
       "3        1     10    5810.0      32.0      2       Кира   22  Тюмень   \n",
       "4        1     11    7004.0      54.0      3       Кира   22  Тюмень   \n",
       "5        1     12    6752.0      28.0      2       Кира   22  Тюмень   \n",
       "6        2      3   10188.0      61.0      3  Станислав   31    Омск   \n",
       "7        2      4    6165.0      40.0      2  Станислав   31    Омск   \n",
       "8        2      6    3256.0      14.0      1  Станислав   31    Омск   \n",
       "9        2      7    6781.0      47.0      2  Станислав   31    Омск   \n",
       "\n",
       "  subscription_type  minute_price  start_ride_price  subscription_fee  \n",
       "0             ultra             6                 0               199  \n",
       "1             ultra             6                 0               199  \n",
       "2             ultra             6                 0               199  \n",
       "3             ultra             6                 0               199  \n",
       "4             ultra             6                 0               199  \n",
       "5             ultra             6                 0               199  \n",
       "6             ultra             6                 0               199  \n",
       "7             ultra             6                 0               199  \n",
       "8             ultra             6                 0               199  \n",
       "9             ultra             6                 0               199  "
      ]
     },
     "execution_count": 43,
     "metadata": {},
     "output_type": "execute_result"
    }
   ],
   "source": [
    "user_month_rides_df.head(10)"
   ]
  },
  {
   "cell_type": "markdown",
   "id": "0129a0e7-383e-413b-a1f8-f6a4a67a343c",
   "metadata": {
    "jp-MarkdownHeadingCollapsed": true
   },
   "source": [
    "##### Посчитаем помесячную выручку"
   ]
  },
  {
   "cell_type": "code",
   "execution_count": 44,
   "id": "e0e40891-ee9b-4811-a87c-6ee465002b19",
   "metadata": {},
   "outputs": [
    {
     "data": {
      "text/html": [
       "<div>\n",
       "<style scoped>\n",
       "    .dataframe tbody tr th:only-of-type {\n",
       "        vertical-align: middle;\n",
       "    }\n",
       "\n",
       "    .dataframe tbody tr th {\n",
       "        vertical-align: top;\n",
       "    }\n",
       "\n",
       "    .dataframe thead th {\n",
       "        text-align: right;\n",
       "    }\n",
       "</style>\n",
       "<table border=\"1\" class=\"dataframe\">\n",
       "  <thead>\n",
       "    <tr style=\"text-align: right;\">\n",
       "      <th></th>\n",
       "      <th>user_id</th>\n",
       "      <th>month</th>\n",
       "      <th>distance</th>\n",
       "      <th>duration</th>\n",
       "      <th>count</th>\n",
       "      <th>name</th>\n",
       "      <th>age</th>\n",
       "      <th>city</th>\n",
       "      <th>subscription_type</th>\n",
       "      <th>minute_price</th>\n",
       "      <th>start_ride_price</th>\n",
       "      <th>subscription_fee</th>\n",
       "      <th>revenue</th>\n",
       "    </tr>\n",
       "  </thead>\n",
       "  <tbody>\n",
       "    <tr>\n",
       "      <th>0</th>\n",
       "      <td>1</td>\n",
       "      <td>1</td>\n",
       "      <td>7028.0</td>\n",
       "      <td>42.0</td>\n",
       "      <td>2</td>\n",
       "      <td>Кира</td>\n",
       "      <td>22</td>\n",
       "      <td>Тюмень</td>\n",
       "      <td>ultra</td>\n",
       "      <td>6</td>\n",
       "      <td>0</td>\n",
       "      <td>199</td>\n",
       "      <td>451.0</td>\n",
       "    </tr>\n",
       "    <tr>\n",
       "      <th>1</th>\n",
       "      <td>1</td>\n",
       "      <td>4</td>\n",
       "      <td>755.0</td>\n",
       "      <td>7.0</td>\n",
       "      <td>1</td>\n",
       "      <td>Кира</td>\n",
       "      <td>22</td>\n",
       "      <td>Тюмень</td>\n",
       "      <td>ultra</td>\n",
       "      <td>6</td>\n",
       "      <td>0</td>\n",
       "      <td>199</td>\n",
       "      <td>241.0</td>\n",
       "    </tr>\n",
       "    <tr>\n",
       "      <th>2</th>\n",
       "      <td>1</td>\n",
       "      <td>8</td>\n",
       "      <td>6724.0</td>\n",
       "      <td>45.0</td>\n",
       "      <td>2</td>\n",
       "      <td>Кира</td>\n",
       "      <td>22</td>\n",
       "      <td>Тюмень</td>\n",
       "      <td>ultra</td>\n",
       "      <td>6</td>\n",
       "      <td>0</td>\n",
       "      <td>199</td>\n",
       "      <td>469.0</td>\n",
       "    </tr>\n",
       "    <tr>\n",
       "      <th>3</th>\n",
       "      <td>1</td>\n",
       "      <td>10</td>\n",
       "      <td>5810.0</td>\n",
       "      <td>32.0</td>\n",
       "      <td>2</td>\n",
       "      <td>Кира</td>\n",
       "      <td>22</td>\n",
       "      <td>Тюмень</td>\n",
       "      <td>ultra</td>\n",
       "      <td>6</td>\n",
       "      <td>0</td>\n",
       "      <td>199</td>\n",
       "      <td>391.0</td>\n",
       "    </tr>\n",
       "    <tr>\n",
       "      <th>4</th>\n",
       "      <td>1</td>\n",
       "      <td>11</td>\n",
       "      <td>7004.0</td>\n",
       "      <td>54.0</td>\n",
       "      <td>3</td>\n",
       "      <td>Кира</td>\n",
       "      <td>22</td>\n",
       "      <td>Тюмень</td>\n",
       "      <td>ultra</td>\n",
       "      <td>6</td>\n",
       "      <td>0</td>\n",
       "      <td>199</td>\n",
       "      <td>523.0</td>\n",
       "    </tr>\n",
       "    <tr>\n",
       "      <th>5</th>\n",
       "      <td>1</td>\n",
       "      <td>12</td>\n",
       "      <td>6752.0</td>\n",
       "      <td>28.0</td>\n",
       "      <td>2</td>\n",
       "      <td>Кира</td>\n",
       "      <td>22</td>\n",
       "      <td>Тюмень</td>\n",
       "      <td>ultra</td>\n",
       "      <td>6</td>\n",
       "      <td>0</td>\n",
       "      <td>199</td>\n",
       "      <td>367.0</td>\n",
       "    </tr>\n",
       "    <tr>\n",
       "      <th>6</th>\n",
       "      <td>2</td>\n",
       "      <td>3</td>\n",
       "      <td>10188.0</td>\n",
       "      <td>61.0</td>\n",
       "      <td>3</td>\n",
       "      <td>Станислав</td>\n",
       "      <td>31</td>\n",
       "      <td>Омск</td>\n",
       "      <td>ultra</td>\n",
       "      <td>6</td>\n",
       "      <td>0</td>\n",
       "      <td>199</td>\n",
       "      <td>565.0</td>\n",
       "    </tr>\n",
       "    <tr>\n",
       "      <th>7</th>\n",
       "      <td>2</td>\n",
       "      <td>4</td>\n",
       "      <td>6165.0</td>\n",
       "      <td>40.0</td>\n",
       "      <td>2</td>\n",
       "      <td>Станислав</td>\n",
       "      <td>31</td>\n",
       "      <td>Омск</td>\n",
       "      <td>ultra</td>\n",
       "      <td>6</td>\n",
       "      <td>0</td>\n",
       "      <td>199</td>\n",
       "      <td>439.0</td>\n",
       "    </tr>\n",
       "    <tr>\n",
       "      <th>8</th>\n",
       "      <td>2</td>\n",
       "      <td>6</td>\n",
       "      <td>3256.0</td>\n",
       "      <td>14.0</td>\n",
       "      <td>1</td>\n",
       "      <td>Станислав</td>\n",
       "      <td>31</td>\n",
       "      <td>Омск</td>\n",
       "      <td>ultra</td>\n",
       "      <td>6</td>\n",
       "      <td>0</td>\n",
       "      <td>199</td>\n",
       "      <td>283.0</td>\n",
       "    </tr>\n",
       "    <tr>\n",
       "      <th>9</th>\n",
       "      <td>2</td>\n",
       "      <td>7</td>\n",
       "      <td>6781.0</td>\n",
       "      <td>47.0</td>\n",
       "      <td>2</td>\n",
       "      <td>Станислав</td>\n",
       "      <td>31</td>\n",
       "      <td>Омск</td>\n",
       "      <td>ultra</td>\n",
       "      <td>6</td>\n",
       "      <td>0</td>\n",
       "      <td>199</td>\n",
       "      <td>481.0</td>\n",
       "    </tr>\n",
       "  </tbody>\n",
       "</table>\n",
       "</div>"
      ],
      "text/plain": [
       "   user_id  month  distance  duration  count       name  age    city  \\\n",
       "0        1      1    7028.0      42.0      2       Кира   22  Тюмень   \n",
       "1        1      4     755.0       7.0      1       Кира   22  Тюмень   \n",
       "2        1      8    6724.0      45.0      2       Кира   22  Тюмень   \n",
       "3        1     10    5810.0      32.0      2       Кира   22  Тюмень   \n",
       "4        1     11    7004.0      54.0      3       Кира   22  Тюмень   \n",
       "5        1     12    6752.0      28.0      2       Кира   22  Тюмень   \n",
       "6        2      3   10188.0      61.0      3  Станислав   31    Омск   \n",
       "7        2      4    6165.0      40.0      2  Станислав   31    Омск   \n",
       "8        2      6    3256.0      14.0      1  Станислав   31    Омск   \n",
       "9        2      7    6781.0      47.0      2  Станислав   31    Омск   \n",
       "\n",
       "  subscription_type  minute_price  start_ride_price  subscription_fee  revenue  \n",
       "0             ultra             6                 0               199    451.0  \n",
       "1             ultra             6                 0               199    241.0  \n",
       "2             ultra             6                 0               199    469.0  \n",
       "3             ultra             6                 0               199    391.0  \n",
       "4             ultra             6                 0               199    523.0  \n",
       "5             ultra             6                 0               199    367.0  \n",
       "6             ultra             6                 0               199    565.0  \n",
       "7             ultra             6                 0               199    439.0  \n",
       "8             ultra             6                 0               199    283.0  \n",
       "9             ultra             6                 0               199    481.0  "
      ]
     },
     "execution_count": 44,
     "metadata": {},
     "output_type": "execute_result"
    }
   ],
   "source": [
    "user_month_rides_df.head(10)\n",
    "user_month_rides_df.eval(\"revenue = start_ride_price + duration * minute_price + subscription_fee\", \n",
    "       inplace=True)\n",
    "user_month_rides_df.head(10)"
   ]
  },
  {
   "cell_type": "markdown",
   "id": "68827c58-e100-4fe2-a571-b3b217167a43",
   "metadata": {},
   "source": [
    "### Шаг 6. Проверка гипотез"
   ]
  },
  {
   "cell_type": "markdown",
   "id": "7c66c80b-6769-4e5f-bfac-9d8a624bc3c0",
   "metadata": {},
   "source": [
    "Задача: увеличить количество пользователей с подпиской."
   ]
  },
  {
   "cell_type": "markdown",
   "id": "cb743a88-9d1e-40da-b90f-da76dcf9f48a",
   "metadata": {},
   "source": [
    "#### Тратят ли пользователи с подпиской больше времени на поездки?"
   ]
  },
  {
   "cell_type": "markdown",
   "id": "f297604d-4388-4eb5-b6ba-8c63d9b2b03e",
   "metadata": {},
   "source": [
    "Чтобы понять правда ли это сформулируем следующие гипотезы:\n",
    "\n",
    "Нулевая гипотеза: Пользователи без подписки и с подпиской тратят одинаковое количество времени на поездки\n",
    "\n",
    "Альтернативная гипотеза: Пользователи с подиской тратят больше времени на поездки\n",
    "\n",
    "Для проверки гипотез будем использовать два ранее созданных датафрема user_free_rides_df и user_ultra_rides_df. Поставим уровень статистической значимости, равным 0.05. "
   ]
  },
  {
   "cell_type": "code",
   "execution_count": 45,
   "id": "34989057-25ff-42be-a276-3a6f5a1bb3b4",
   "metadata": {},
   "outputs": [
    {
     "name": "stdout",
     "output_type": "stream",
     "text": [
      "Среднее выборки с пользователями без подписки: 17.39090929866399\n",
      "Среднее выборки с пользователями с подпиской: 18.54198516280583\n"
     ]
    }
   ],
   "source": [
    "print(f'Среднее выборки с пользователями без подписки: {np.mean(user_free_rides_df[\"duration\"])}')\n",
    "print(f'Среднее выборки с пользователями с подпиской: {np.mean(user_ultra_rides_df[\"duration\"])}')"
   ]
  },
  {
   "cell_type": "code",
   "execution_count": 46,
   "id": "73b6a085-05b3-45f2-a084-f842d8386f10",
   "metadata": {},
   "outputs": [
    {
     "name": "stdout",
     "output_type": "stream",
     "text": [
      "p-значение = 5.675781377128977e-37\n",
      "Отвергаем нулевую гипотезу\n"
     ]
    }
   ],
   "source": [
    "alpha = 0.05\n",
    "\n",
    "results = st.ttest_ind(\n",
    "    user_ultra_rides_df[\"duration\"],\n",
    "     user_free_rides_df[\"duration\"],\n",
    "    equal_var=False,\n",
    "    alternative='greater')\n",
    "\n",
    "print(f'p-значение = {results.pvalue}')\n",
    "\n",
    "if results.pvalue < alpha:\n",
    "    print('Отвергаем нулевую гипотезу')\n",
    "else:\n",
    "    print('Не можем отвергнуть нулевую гипотезу')"
   ]
  },
  {
   "cell_type": "markdown",
   "id": "b965cde8-c23e-4ab8-9be0-ec5c859dfd6d",
   "metadata": {},
   "source": [
    "Так как нулевая гипотеза была отвергнута, у нас есть основания говорить, что пользователи с подпиской действительно тратят больше времени на поездки."
   ]
  },
  {
   "cell_type": "markdown",
   "id": "ccd6c811-3697-4f68-af85-8be11fda5ccb",
   "metadata": {},
   "source": [
    "#### Среднее расстояние, которое проезжают пользователи с подпиской, не превосходит 3130 метров."
   ]
  },
  {
   "cell_type": "markdown",
   "id": "e6e89dbe-2d8a-4780-bf8c-9556ffb2c4eb",
   "metadata": {},
   "source": [
    "Сформулируем гипотезы:\n",
    "\n",
    "Нулевая гипотеза: Среднее расстояние за одну поездку пользователя с подпиской - 3130 метров.\n",
    "\n",
    "Альтернативная гипотеза: Среднее расстояние больше, чем 3130 метров.\n",
    "\n",
    "Взяли именно такую альтернативную гипотезу, потому что по условию у нас \"не превышает 3130 метров\", значит, нулевая гипотеза с такой альтернативной гипотезой полностью удовлетворяет условию."
   ]
  },
  {
   "cell_type": "code",
   "execution_count": 47,
   "id": "19ef9c5f-e869-4842-b376-64698fa2af31",
   "metadata": {},
   "outputs": [
    {
     "name": "stdout",
     "output_type": "stream",
     "text": [
      "p-значение = 0.9195368847849785\n",
      "Не отвергаем нулевую гипотезу\n"
     ]
    }
   ],
   "source": [
    "value = 3130\n",
    "alpha = 0.05\n",
    "\n",
    "results = st.ttest_1samp(\n",
    "    user_ultra_rides_df['distance'], value,\n",
    "    alternative='greater')\n",
    "\n",
    "print(f'p-значение = {results.pvalue}')\n",
    "if results.pvalue < alpha:\n",
    "    print('Отвергаем нулевую гипотезу')\n",
    "else:\n",
    "    print('Не отвергаем нулевую гипотезу')"
   ]
  },
  {
   "cell_type": "markdown",
   "id": "6c2882c8-7a89-4119-8f13-0aa4c42a4bb1",
   "metadata": {},
   "source": [
    "Тест не отвергает то, что люди с подпиской в среднем проезжают меньше, чем 3130 метров."
   ]
  },
  {
   "cell_type": "markdown",
   "id": "ce37e783-0df7-4fb5-9376-627a94d4bc99",
   "metadata": {},
   "source": [
    "#### Будет ли помесячная выручка от пользователей с подпиской по месяцам выше, чем выручка от пользователей без подписки?"
   ]
  },
  {
   "cell_type": "markdown",
   "id": "cd81d2f5-fa2a-424e-80c8-da935ca19c55",
   "metadata": {},
   "source": [
    "Будем действовать следующим образом: составим два датафрейма из 12 элементов каждый - среднюю выручку за каждый месяц от пользователей с подпиской и без. Затем проверим гипотезу о том, что среднее первого датафрейма больше.\n",
    "\n",
    "Нулевая гипотеза: среднее датафрейма с пользователями с подпиской равно среднему пользователей без подписки.\n",
    "\n",
    "Альтернативная гипотеза: среднее с пользователями с подписками выше, чем у пользователей без подписки."
   ]
  },
  {
   "cell_type": "markdown",
   "id": "a43b9ec9-c908-423d-8f9c-5a421bc60021",
   "metadata": {},
   "source": [
    "Созаздим нужные датафреймы со средней выручкой за каждый месяц."
   ]
  },
  {
   "cell_type": "code",
   "execution_count": 48,
   "id": "2deb896e-bcff-464a-a92d-9291590101e4",
   "metadata": {},
   "outputs": [
    {
     "data": {
      "text/html": [
       "<div>\n",
       "<style scoped>\n",
       "    .dataframe tbody tr th:only-of-type {\n",
       "        vertical-align: middle;\n",
       "    }\n",
       "\n",
       "    .dataframe tbody tr th {\n",
       "        vertical-align: top;\n",
       "    }\n",
       "\n",
       "    .dataframe thead th {\n",
       "        text-align: right;\n",
       "    }\n",
       "</style>\n",
       "<table border=\"1\" class=\"dataframe\">\n",
       "  <thead>\n",
       "    <tr style=\"text-align: right;\">\n",
       "      <th></th>\n",
       "      <th>revenue</th>\n",
       "    </tr>\n",
       "    <tr>\n",
       "      <th>month</th>\n",
       "      <th></th>\n",
       "    </tr>\n",
       "  </thead>\n",
       "  <tbody>\n",
       "    <tr>\n",
       "      <th>1</th>\n",
       "      <td>287.186667</td>\n",
       "    </tr>\n",
       "    <tr>\n",
       "      <th>2</th>\n",
       "      <td>278.930057</td>\n",
       "    </tr>\n",
       "    <tr>\n",
       "      <th>3</th>\n",
       "      <td>295.482014</td>\n",
       "    </tr>\n",
       "    <tr>\n",
       "      <th>4</th>\n",
       "      <td>296.264014</td>\n",
       "    </tr>\n",
       "    <tr>\n",
       "      <th>5</th>\n",
       "      <td>291.158813</td>\n",
       "    </tr>\n",
       "    <tr>\n",
       "      <th>6</th>\n",
       "      <td>289.538200</td>\n",
       "    </tr>\n",
       "    <tr>\n",
       "      <th>7</th>\n",
       "      <td>291.651246</td>\n",
       "    </tr>\n",
       "    <tr>\n",
       "      <th>8</th>\n",
       "      <td>291.600000</td>\n",
       "    </tr>\n",
       "    <tr>\n",
       "      <th>9</th>\n",
       "      <td>296.100520</td>\n",
       "    </tr>\n",
       "    <tr>\n",
       "      <th>10</th>\n",
       "      <td>291.224044</td>\n",
       "    </tr>\n",
       "    <tr>\n",
       "      <th>11</th>\n",
       "      <td>286.583784</td>\n",
       "    </tr>\n",
       "    <tr>\n",
       "      <th>12</th>\n",
       "      <td>292.833898</td>\n",
       "    </tr>\n",
       "  </tbody>\n",
       "</table>\n",
       "</div>"
      ],
      "text/plain": [
       "          revenue\n",
       "month            \n",
       "1      287.186667\n",
       "2      278.930057\n",
       "3      295.482014\n",
       "4      296.264014\n",
       "5      291.158813\n",
       "6      289.538200\n",
       "7      291.651246\n",
       "8      291.600000\n",
       "9      296.100520\n",
       "10     291.224044\n",
       "11     286.583784\n",
       "12     292.833898"
      ]
     },
     "execution_count": 48,
     "metadata": {},
     "output_type": "execute_result"
    }
   ],
   "source": [
    "user_month_rides_free_df = user_month_rides_df.query('subscription_type==\"free\"')\n",
    "user_month_rides_free_df = user_month_rides_free_df.pivot_table(index='month', values='revenue', aggfunc='mean')\n",
    "user_month_rides_free_df"
   ]
  },
  {
   "cell_type": "code",
   "execution_count": 49,
   "id": "bb70256e-aadf-4381-984a-a6d05c6e7884",
   "metadata": {},
   "outputs": [
    {
     "data": {
      "text/html": [
       "<div>\n",
       "<style scoped>\n",
       "    .dataframe tbody tr th:only-of-type {\n",
       "        vertical-align: middle;\n",
       "    }\n",
       "\n",
       "    .dataframe tbody tr th {\n",
       "        vertical-align: top;\n",
       "    }\n",
       "\n",
       "    .dataframe thead th {\n",
       "        text-align: right;\n",
       "    }\n",
       "</style>\n",
       "<table border=\"1\" class=\"dataframe\">\n",
       "  <thead>\n",
       "    <tr style=\"text-align: right;\">\n",
       "      <th></th>\n",
       "      <th>revenue</th>\n",
       "    </tr>\n",
       "    <tr>\n",
       "      <th>month</th>\n",
       "      <th></th>\n",
       "    </tr>\n",
       "  </thead>\n",
       "  <tbody>\n",
       "    <tr>\n",
       "      <th>1</th>\n",
       "      <td>367.953846</td>\n",
       "    </tr>\n",
       "    <tr>\n",
       "      <th>2</th>\n",
       "      <td>351.033898</td>\n",
       "    </tr>\n",
       "    <tr>\n",
       "      <th>3</th>\n",
       "      <td>358.772727</td>\n",
       "    </tr>\n",
       "    <tr>\n",
       "      <th>4</th>\n",
       "      <td>365.844920</td>\n",
       "    </tr>\n",
       "    <tr>\n",
       "      <th>5</th>\n",
       "      <td>367.029630</td>\n",
       "    </tr>\n",
       "    <tr>\n",
       "      <th>6</th>\n",
       "      <td>360.155779</td>\n",
       "    </tr>\n",
       "    <tr>\n",
       "      <th>7</th>\n",
       "      <td>366.400000</td>\n",
       "    </tr>\n",
       "    <tr>\n",
       "      <th>8</th>\n",
       "      <td>359.625000</td>\n",
       "    </tr>\n",
       "    <tr>\n",
       "      <th>9</th>\n",
       "      <td>362.994366</td>\n",
       "    </tr>\n",
       "    <tr>\n",
       "      <th>10</th>\n",
       "      <td>358.725806</td>\n",
       "    </tr>\n",
       "    <tr>\n",
       "      <th>11</th>\n",
       "      <td>356.203390</td>\n",
       "    </tr>\n",
       "    <tr>\n",
       "      <th>12</th>\n",
       "      <td>361.614958</td>\n",
       "    </tr>\n",
       "  </tbody>\n",
       "</table>\n",
       "</div>"
      ],
      "text/plain": [
       "          revenue\n",
       "month            \n",
       "1      367.953846\n",
       "2      351.033898\n",
       "3      358.772727\n",
       "4      365.844920\n",
       "5      367.029630\n",
       "6      360.155779\n",
       "7      366.400000\n",
       "8      359.625000\n",
       "9      362.994366\n",
       "10     358.725806\n",
       "11     356.203390\n",
       "12     361.614958"
      ]
     },
     "execution_count": 49,
     "metadata": {},
     "output_type": "execute_result"
    }
   ],
   "source": [
    "user_month_rides_ultra_df = user_month_rides_df.query('subscription_type==\"ultra\"')\n",
    "user_month_rides_ultra_df = user_month_rides_ultra_df.pivot_table(index='month', values='revenue', aggfunc='mean')\n",
    "user_month_rides_ultra_df"
   ]
  },
  {
   "cell_type": "markdown",
   "id": "174b2184-1b57-422c-a705-36e11ce76ea2",
   "metadata": {},
   "source": [
    "Глядя на датафреймы, уже видно, что средняя выручка от пользователей без подписки явно выше. Нет смысла проверять гипотезу и проводить тест, он покажет, что доходность выше в любом случае."
   ]
  },
  {
   "cell_type": "markdown",
   "id": "4a2e4793-2ca2-4825-956c-d64f8fd0150a",
   "metadata": {},
   "source": [
    "#### Техническая команда сервиса обновила сервера, с которыми взаимодействует мобильное приложение. Нужно проверить снизилось ли количество обращений?"
   ]
  },
  {
   "cell_type": "markdown",
   "id": "01e3a551-48b0-409a-b0dd-5f065eaa48e5",
   "metadata": {},
   "source": [
    "Мы бы пользовались двухвыборочным t-тестом для зависимых выборок."
   ]
  },
  {
   "cell_type": "markdown",
   "id": "53c16522-bf0d-41ca-a924-f229c786e71a",
   "metadata": {},
   "source": [
    "### Шаг 7. Распределения"
   ]
  },
  {
   "cell_type": "markdown",
   "id": "6a9deeb3-2944-4f7f-9042-35bb5f7d8754",
   "metadata": {},
   "source": [
    "#### Увеличение количества подписчиков"
   ]
  },
  {
   "cell_type": "markdown",
   "id": "7010170a-a222-499a-ba1a-d214fe79197a",
   "metadata": {},
   "source": [
    "Задача: увеличить количество пользователей с платной подпиской на 100 существующих клиентов, у которых еще нет платной подписки.  \n",
    "\n",
    "Данные: после раздачи промокодов платную подписку продлевают 10% пользователей, нужно раздать столько промокодов, чтобы вероятность не выполнить план была примерно 5%."
   ]
  },
  {
   "cell_type": "markdown",
   "id": "b3896150-30ed-4c2f-8ba9-744d75653759",
   "metadata": {},
   "source": [
    "В данном случае мы работаем с биномиальным распределением с вероятностью успеха 0.1. Попробуем подобрать n, чтобы вероятность успеха для 100 клиентов была 5 или меньше процентов."
   ]
  },
  {
   "cell_type": "code",
   "execution_count": 50,
   "id": "9cd260ea-c892-4f10-b2eb-2c96e27ce408",
   "metadata": {},
   "outputs": [
    {
     "data": {
      "image/png": "[encoded data removed]",
      "text/plain": [
       "<Figure size 640x480 with 1 Axes>"
      ]
     },
     "metadata": {},
     "output_type": "display_data"
    }
   ],
   "source": [
    "p = 0.1\n",
    "n = 1000\n",
    "\n",
    "distr = []\n",
    "\n",
    "for k in range(0, n + 1):\n",
    "    choose = factorial(n) / (factorial(k) * factorial(n - k))\n",
    "    prob = choose * p**k * (1-p)**(n-k) \n",
    "    distr.append(prob)\n",
    "\n",
    "plt.bar(range(0, n + 1), distr);"
   ]
  },
  {
   "cell_type": "markdown",
   "id": "7368b68c-3060-4d4b-8893-e29631e3a558",
   "metadata": {},
   "source": [
    "Как мы можем увидеть, если n=1000, то мат. ожидание как раз 100 (=n * p). Однако, все еще с вероятностью 50% значение будет меньше нужного, поэтому увеличим n. Однако при увеличении n программа отказывается считать настолько большие числа, поэтому попробуем взять n=1200 и апроксимировать его к нормальному распределению, затем проверим результат."
   ]
  },
  {
   "cell_type": "code",
   "execution_count": 51,
   "id": "c8b28c76-a393-4422-b938-0d5c592f60b1",
   "metadata": {},
   "outputs": [
    {
     "name": "stdout",
     "output_type": "stream",
     "text": [
      "Мат. ожидание: 120.0\n",
      "Стандартное отклонение: 10.392304845413264\n",
      "Мат. ожидание плюс минус три стандартных отклонения: (88.82308546376021, 151.1769145362398)\n",
      "Промежуток [0, n]: [0, 1200]\n"
     ]
    }
   ],
   "source": [
    "p = 0.1\n",
    "n = 1200\n",
    "\n",
    "print(f'Мат. ожидание: {p * n}')\n",
    "print(f'Стандартное отклонение: {sqrt(n*p*(1-p))}')\n",
    "print(f'Мат. ожидание плюс минус три стандартных отклонения: ({p*n - 3 * sqrt(n*p*(1-p))}, {p*n + 3 * sqrt(n*p*(1-p))})')\n",
    "print(f'Промежуток [0, n]: [0, {n}]')"
   ]
  },
  {
   "cell_type": "markdown",
   "id": "e68c7ba9-980c-464d-b0d5-7e340eb2c8e7",
   "metadata": {},
   "source": [
    "Имеем право апроксимировать. Построим график этого распределения."
   ]
  },
  {
   "cell_type": "code",
   "execution_count": 52,
   "id": "f8aefc22-afb5-4c5d-a2b8-238efa8e8f6f",
   "metadata": {},
   "outputs": [
    {
     "data": {
      "image/png": "[encoded data removed]",
      "text/plain": [
       "<Figure size 640x480 with 1 Axes>"
      ]
     },
     "metadata": {},
     "output_type": "display_data"
    }
   ],
   "source": [
    "mean = n * p\n",
    "std_dev = sqrt(n * p * (1 - p))\n",
    "\n",
    "x = np.linspace(50, mean + 3 * std_dev, 1000)\n",
    "y = st.norm.pdf(x, mean, std_dev)\n",
    "\n",
    "plt.plot(x, y, label='Апроксимированное распределение')\n",
    "plt.title('График распределения')\n",
    "plt.xlabel('Значение')\n",
    "plt.ylabel('Плотность вероятности')\n",
    "plt.legend()\n",
    "plt.show()"
   ]
  },
  {
   "cell_type": "markdown",
   "id": "2dbc6304-6f45-4678-b54f-58b55b1deda2",
   "metadata": {},
   "source": [
    "Как мы можем увидеть для n=1200 значение 100 находится примерно на 5%, проверим это с помощью CDF."
   ]
  },
  {
   "cell_type": "code",
   "execution_count": 53,
   "id": "f17e2e1a-d4c1-4e93-a85a-08fe6aae0d0d",
   "metadata": {},
   "outputs": [
    {
     "name": "stdout",
     "output_type": "stream",
     "text": [
      "0.027145914183427298\n"
     ]
    }
   ],
   "source": [
    "distr = st.norm(mean, std_dev)\n",
    "\n",
    "result = distr.cdf(100)\n",
    "print(result)"
   ]
  },
  {
   "cell_type": "markdown",
   "id": "815b38f1-df28-48ad-b29f-c1685469f6ab",
   "metadata": {},
   "source": [
    "1200 даже много, попробуем запустить цикл и вывести самое близкое значение cdf(100) к 5 процентам."
   ]
  },
  {
   "cell_type": "code",
   "execution_count": 54,
   "id": "13d45f4b-5e96-42e6-af8b-8f0196ae8402",
   "metadata": {},
   "outputs": [
    {
     "name": "stdout",
     "output_type": "stream",
     "text": [
      "Самое подходящее n = 1168, cdf(100) = 0.050650790692463\n"
     ]
    }
   ],
   "source": [
    "p = 0.1\n",
    "nearest = 1000\n",
    "for n in range(1200, 1000, -1):\n",
    "    mean = n * p\n",
    "    std_dev = sqrt(n * p * (1 - p))\n",
    "    distr = st.norm(mean, std_dev)\n",
    "    result = distr.cdf(100)\n",
    "    nearest = n\n",
    "    if result <= 0.05:\n",
    "        continue\n",
    "    else:\n",
    "        break\n",
    "\n",
    "print(f'Самое подходящее n = {nearest}, cdf(100) = {result}')"
   ]
  },
  {
   "cell_type": "code",
   "execution_count": 55,
   "id": "4e934414-3c51-4833-b061-beb12298a19b",
   "metadata": {},
   "outputs": [
    {
     "name": "stdout",
     "output_type": "stream",
     "text": [
      "Мат. ожидание: 116.80000000000001\n",
      "Стандартное отклонение: 10.252804494381039\n",
      "Мат. ожидание плюс минус три стандартных отклонения: (86.0415865168569, 147.5584134831431)\n",
      "Промежуток [0, n]: [0, 1168]\n"
     ]
    }
   ],
   "source": [
    "n = 1168\n",
    "p=0.1\n",
    "print(f'Мат. ожидание: {p * n}')\n",
    "print(f'Стандартное отклонение: {sqrt(n*p*(1-p))}')\n",
    "print(f'Мат. ожидание плюс минус три стандартных отклонения: ({p*n - 3 * sqrt(n*p*(1-p))}, {p*n + 3 * sqrt(n*p*(1-p))})')\n",
    "print(f'Промежуток [0, n]: [0, {n}]')"
   ]
  },
  {
   "cell_type": "markdown",
   "id": "2eebb123-8d6b-4d08-be3d-b1a163a06fc7",
   "metadata": {},
   "source": [
    "Мы имеем право апроксимировать это распределение к нормальному, значит, проверка достоверна. Мы выяснили, что при n=1168, вероятность получить менее 100 новых подписчиков ~0.05 (0.050650790692463)."
   ]
  },
  {
   "cell_type": "code",
   "execution_count": 56,
   "id": "e7c6cbd7-207f-4732-8641-8e75a8bc8873",
   "metadata": {},
   "outputs": [
    {
     "name": "stdout",
     "output_type": "stream",
     "text": [
      "0.050650790692463\n"
     ]
    }
   ],
   "source": [
    "p = 0.1\n",
    "n = 1168\n",
    "mean = p*n\n",
    "std_dev = sqrt(n*p*(1-p))\n",
    "distr = st.norm(mean, std_dev)\n",
    "result = distr.cdf(100)\n",
    "print(result)"
   ]
  },
  {
   "cell_type": "markdown",
   "id": "0e4cd108-348f-40b7-b29c-3a18a7736062",
   "metadata": {},
   "source": [
    "#### Рассылка push-уведомлений"
   ]
  },
  {
   "cell_type": "markdown",
   "id": "b61691ec-b4aa-4950-b36e-9f7685726a63",
   "metadata": {},
   "source": [
    "Опять имеем дело с биномальным распределением, но в этот раз о нем все известно: n= 1000000, p=0.4. Проверим имеем ли мы право свести его к нормальному."
   ]
  },
  {
   "cell_type": "code",
   "execution_count": 57,
   "id": "38fb1819-714c-4f46-80c7-5a95b7a1e17b",
   "metadata": {},
   "outputs": [
    {
     "name": "stdout",
     "output_type": "stream",
     "text": [
      "Мат. ожидание: 400000.0\n",
      "Стандартное отклонение: 489.89794855663564\n",
      "Мат. ожидание плюс минус три стандартных отклонения: (398530.3061543301, 401469.6938456699)\n",
      "Промежуток [0, n]: [0, 1000000]\n"
     ]
    }
   ],
   "source": [
    "n = 1_000_000\n",
    "p = 0.4\n",
    "\n",
    "print(f'Мат. ожидание: {p * n}')\n",
    "print(f'Стандартное отклонение: {sqrt(n*p*(1-p))}')\n",
    "print(f'Мат. ожидание плюс минус три стандартных отклонения: ({p*n - 3 * sqrt(n*p*(1-p))}, {p*n + 3 * sqrt(n*p*(1-p))})')\n",
    "print(f'Промежуток [0, n]: [0, {n}]')"
   ]
  },
  {
   "cell_type": "markdown",
   "id": "1b3a5eec-0c3d-41d7-96c5-fba6c8c5a569",
   "metadata": {},
   "source": [
    "Имеем право апроксимировать к нормальному распределению. Найдем вероятность получить не больше, чем это число."
   ]
  },
  {
   "cell_type": "code",
   "execution_count": 58,
   "id": "79bdf0f5-32a2-4422-ba6a-8d9042ccf0a9",
   "metadata": {},
   "outputs": [
    {
     "name": "stdout",
     "output_type": "stream",
     "text": [
      "0.15371708296369768\n"
     ]
    }
   ],
   "source": [
    "mean = p*n\n",
    "std_dev = sqrt(n*p*(1-p))\n",
    "distr = st.norm(mean, std_dev)\n",
    "result = distr.cdf(399_500)\n",
    "print(result)"
   ]
  },
  {
   "cell_type": "markdown",
   "id": "f207746f-f65c-4b2b-916f-4b4561cdd0d9",
   "metadata": {},
   "source": [
    "Мы получили 15%, значит, 399500 является пределом 1 сигмы. Можем проверить."
   ]
  },
  {
   "cell_type": "code",
   "execution_count": 59,
   "id": "a69d29ba-e447-4c24-985b-9ad23d0d2d5c",
   "metadata": {},
   "outputs": [
    {
     "name": "stdout",
     "output_type": "stream",
     "text": [
      "Мат. ожидание плюс минус стандартное отклонения: (399510.10205144336, 400489.89794855664)\n"
     ]
    }
   ],
   "source": [
    "print(f'Мат. ожидание плюс минус стандартное отклонения: ({p*n - sqrt(n*p*(1-p))}, {p*n + sqrt(n*p*(1-p))})')"
   ]
  },
  {
   "cell_type": "markdown",
   "id": "4e944aa0-3c49-4f76-8037-34e0c7159066",
   "metadata": {},
   "source": [
    "Как и ожидалось."
   ]
  }
 ],
 "metadata": {
  "kernelspec": {
   "display_name": "Python 3 (ipykernel)",
   "language": "python",
   "name": "python3"
  },
  "language_info": {
   "codemirror_mode": {
    "name": "ipython",
    "version": 3
   },
   "file_extension": ".py",
   "mimetype": "text/x-python",
   "name": "python",
   "nbconvert_exporter": "python",
   "pygments_lexer": "ipython3",
   "version": "3.9.18"
  }
 },
 "nbformat": 4,
 "nbformat_minor": 5
}
